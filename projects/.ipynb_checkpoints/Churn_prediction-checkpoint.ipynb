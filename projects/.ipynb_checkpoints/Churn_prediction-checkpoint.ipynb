{
 "cells": [
  {
   "cell_type": "markdown",
   "id": "fd65d7f5",
   "metadata": {},
   "source": [
    "### Project 1\n",
    "#### Churn Prediction\n",
    "\n",
    "Churn: Binary classification\n",
    "Dataset: Telco\n",
    "\n",
    "This template proposes main steps for developing a predictive model for churn. Optionally, you can add substeps such as feature selection, subsampling, dimensionality reduction, refined cleansing, even clustering, etc. Feel free to explore and experiment."
   ]
  },
  {
   "cell_type": "markdown",
   "id": "65591211",
   "metadata": {},
   "source": [
    "#### 1.- Data Preparation"
   ]
  },
  {
   "cell_type": "markdown",
   "id": "f10dfa90",
   "metadata": {},
   "source": [
    "#### 2.- EDA "
   ]
  },
  {
   "cell_type": "markdown",
   "id": "46a62fc2",
   "metadata": {},
   "source": [
    "#### 3.- Model Selection"
   ]
  },
  {
   "cell_type": "markdown",
   "id": "7649426e",
   "metadata": {},
   "source": [
    "#### 4.- Model Evaluation"
   ]
  },
  {
   "cell_type": "markdown",
   "id": "ba6ede24",
   "metadata": {},
   "source": [
    "#### 5.- Future Work"
   ]
  }
 ],
 "metadata": {
  "kernelspec": {
   "display_name": "Python 3 (ipykernel)",
   "language": "python",
   "name": "python3"
  },
  "language_info": {
   "codemirror_mode": {
    "name": "ipython",
    "version": 3
   },
   "file_extension": ".py",
   "mimetype": "text/x-python",
   "name": "python",
   "nbconvert_exporter": "python",
   "pygments_lexer": "ipython3",
   "version": "3.9.12"
  }
 },
 "nbformat": 4,
 "nbformat_minor": 5
}
