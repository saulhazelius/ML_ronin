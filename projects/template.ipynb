{
 "cells": [
  {
   "cell_type": "markdown",
   "id": "fd65d7f5",
   "metadata": {},
   "source": [
    "### ML Project\n",
    "\n",
    "Este template propone los pasos principales para desarrollar un modelo predictivo de clasificación o clustering. Opcionalmene, pude añadir substeps como feature selection, subsampling, dimensionallity reduction, etc. Tenga la libertad de explorar y experimentar."
   ]
  },
  {
   "cell_type": "markdown",
   "id": "65591211",
   "metadata": {},
   "source": [
    "#### 1.- Data Preparation (manejo de outliers, nulls, duplicates, outliers, etc)"
   ]
  },
  {
   "cell_type": "markdown",
   "id": "f10dfa90",
   "metadata": {},
   "source": [
    "#### 2.- EDA (visual y/o análisis de correlación)"
   ]
  },
  {
   "cell_type": "markdown",
   "id": "46a62fc2",
   "metadata": {},
   "source": [
    "#### 3.- Model Selection (Para clasificar, regresion, o clustering)"
   ]
  },
  {
   "cell_type": "markdown",
   "id": "7649426e",
   "metadata": {},
   "source": [
    "#### 4.- Model Evaluation (CV-5 fold o 10-fold, a elergir, metricas adecuadas)"
   ]
  },
  {
   "cell_type": "markdown",
   "id": "ba6ede24",
   "metadata": {},
   "source": [
    "#### 5.- Future Work (Más experimentos con más tiempo como feature engineering, más espacio de búsqueda de hyperparametros)\n"
   ]
  }
 ],
 "metadata": {
  "kernelspec": {
   "display_name": "Python 3 (ipykernel)",
   "language": "python",
   "name": "python3"
  },
  "language_info": {
   "codemirror_mode": {
    "name": "ipython",
    "version": 3
   },
   "file_extension": ".py",
   "mimetype": "text/x-python",
   "name": "python",
   "nbconvert_exporter": "python",
   "pygments_lexer": "ipython3",
   "version": "3.9.12"
  }
 },
 "nbformat": 4,
 "nbformat_minor": 5
}
