{
 "cells": [
  {
   "cell_type": "markdown",
   "id": "c2db2349",
   "metadata": {},
   "source": [
    "### Exercises Week 1 Session 2 Unsupervised Learning"
   ]
  },
  {
   "cell_type": "markdown",
   "id": "f80908b2",
   "metadata": {},
   "source": [
    "### 1. Use el dataset circles (de sklearn) para comparar los clusters formados por los metodos:\n",
    "* Kmeans\n",
    "* Gaussian Mixtures con los tres tipos de covarianza\n",
    "* Spectral Clustering\n",
    "* Agglomerative Clustering\n"
   ]
  },
  {
   "cell_type": "code",
   "execution_count": null,
   "id": "6ac001d1",
   "metadata": {},
   "outputs": [],
   "source": [
    "from sklearn.datasets import make_circles"
   ]
  },
  {
   "cell_type": "code",
   "execution_count": null,
   "id": "e7209523",
   "metadata": {},
   "outputs": [],
   "source": [
    "# Escriba acá su código"
   ]
  },
  {
   "cell_type": "markdown",
   "id": "80936ea9",
   "metadata": {},
   "source": [
    "### 2. Use el metodo elbow para encontrar el numero optimo de clusters en kmeans del dataset anterior"
   ]
  },
  {
   "cell_type": "code",
   "execution_count": null,
   "id": "0219da1c",
   "metadata": {},
   "outputs": [],
   "source": [
    "# Escriba acá su código"
   ]
  }
 ],
 "metadata": {
  "kernelspec": {
   "display_name": "Python 3 (ipykernel)",
   "language": "python",
   "name": "python3"
  },
  "language_info": {
   "codemirror_mode": {
    "name": "ipython",
    "version": 3
   },
   "file_extension": ".py",
   "mimetype": "text/x-python",
   "name": "python",
   "nbconvert_exporter": "python",
   "pygments_lexer": "ipython3",
   "version": "3.9.12"
  }
 },
 "nbformat": 4,
 "nbformat_minor": 5
}
