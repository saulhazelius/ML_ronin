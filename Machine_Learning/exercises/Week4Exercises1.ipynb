{
 "cells": [
  {
   "cell_type": "markdown",
   "id": "bb7a4956",
   "metadata": {},
   "source": [
    "### Week 4 Exercises 1"
   ]
  },
  {
   "cell_type": "markdown",
   "id": "8026a0ed",
   "metadata": {},
   "source": [
    "### Use el set de datos de breast_cancer para:\n",
    "#### 1.- Entrenar un classificador Naive Bayes\n",
    "#### 2.- Entrenar un classificador SVM (Support Vector Machines)\n",
    "#### 3.- Buscar los mejores hyperparametros de SVM usando accuracy score\n",
    "#### 4.- Buscar los mejores hyperparametros de SVM usando f1-score (para el GridSearchCV use scoring='f1')\n",
    "Para los puntos 1 y 2 use train_test_split para entrenar con el train set y validar con test set. Para los puntos 3 y 4 use igual train set para buscar los hyperparams via GridSearch con 5 folds y use test set para la validación final. Similar al notebook de session 1 de week4\n"
   ]
  },
  {
   "cell_type": "code",
   "execution_count": null,
   "id": "6893e248",
   "metadata": {},
   "outputs": [],
   "source": []
  }
 ],
 "metadata": {
  "kernelspec": {
   "display_name": "Python 3 (ipykernel)",
   "language": "python",
   "name": "python3"
  },
  "language_info": {
   "codemirror_mode": {
    "name": "ipython",
    "version": 3
   },
   "file_extension": ".py",
   "mimetype": "text/x-python",
   "name": "python",
   "nbconvert_exporter": "python",
   "pygments_lexer": "ipython3",
   "version": "3.9.12"
  }
 },
 "nbformat": 4,
 "nbformat_minor": 5
}
