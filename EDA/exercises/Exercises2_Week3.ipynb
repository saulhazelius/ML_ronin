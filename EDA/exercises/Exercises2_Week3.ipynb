{
 "cells": [
  {
   "cell_type": "markdown",
   "id": "4e652c98",
   "metadata": {},
   "source": [
    "### Exercises 2 Week 3 EDA"
   ]
  },
  {
   "cell_type": "markdown",
   "id": "4f36f66c",
   "metadata": {},
   "source": [
    "### 1. Realice un EDA con el dataset walmart-sales. Incluya reemplazo de nulos, si hay nulos, dist plots, correlaciones y algún otro proceso informativo que crea necesario \n"
   ]
  },
  {
   "cell_type": "code",
   "execution_count": null,
   "id": "76cfd2e6",
   "metadata": {},
   "outputs": [],
   "source": [
    "import pandas as pd"
   ]
  },
  {
   "cell_type": "code",
   "execution_count": null,
   "id": "d148f586",
   "metadata": {},
   "outputs": [],
   "source": [
    "url = 'https://drive.google.com/file/d/1mHnlGMLlvy7CSFL9PP3fZ-jvgwQcqAMo/view?usp=sharing'\n",
    "url ='https://drive.google.com/uc?id=' + url.split('/')[-2]"
   ]
  },
  {
   "cell_type": "code",
   "execution_count": null,
   "id": "7383490f",
   "metadata": {},
   "outputs": [],
   "source": [
    "df = pd.read_csv(url)"
   ]
  },
  {
   "cell_type": "code",
   "execution_count": null,
   "id": "ca4bd1d6",
   "metadata": {},
   "outputs": [],
   "source": [
    "df"
   ]
  },
  {
   "cell_type": "code",
   "execution_count": null,
   "id": "27fb174e",
   "metadata": {},
   "outputs": [],
   "source": [
    "# Escriba su código acá "
   ]
  },
  {
   "cell_type": "markdown",
   "id": "2a2872bd",
   "metadata": {},
   "source": [
    "### 2. Aplice selección de features en el set de datos breast-cancer (https://archive.ics.uci.edu/ml/datasets/breast+cancer) use mutual information y chi2. \n"
   ]
  },
  {
   "cell_type": "code",
   "execution_count": null,
   "id": "336557b3",
   "metadata": {},
   "outputs": [],
   "source": [
    "url = \"https://drive.google.com/file/d/1fzTeI2NeX0D0Xiou15UFZcU186Xzt86K/view?usp=sharing\"\n",
    "url ='https://drive.google.com/uc?id=' + url.split('/')[-2]\n",
    "df = pd.read_csv(url)"
   ]
  },
  {
   "cell_type": "code",
   "execution_count": null,
   "id": "69699a0c",
   "metadata": {},
   "outputs": [],
   "source": [
    "df"
   ]
  },
  {
   "cell_type": "code",
   "execution_count": null,
   "id": "27a93db8",
   "metadata": {},
   "outputs": [],
   "source": [
    "# Escriba su código acá "
   ]
  }
 ],
 "metadata": {
  "kernelspec": {
   "display_name": "Python 3 (ipykernel)",
   "language": "python",
   "name": "python3"
  },
  "language_info": {
   "codemirror_mode": {
    "name": "ipython",
    "version": 3
   },
   "file_extension": ".py",
   "mimetype": "text/x-python",
   "name": "python",
   "nbconvert_exporter": "python",
   "pygments_lexer": "ipython3",
   "version": "3.9.12"
  }
 },
 "nbformat": 4,
 "nbformat_minor": 5
}
