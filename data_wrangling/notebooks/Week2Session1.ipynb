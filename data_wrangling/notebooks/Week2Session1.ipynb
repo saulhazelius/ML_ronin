{
 "cells": [
  {
   "cell_type": "markdown",
   "id": "2fdf7c11",
   "metadata": {},
   "source": [
    "## Data Wrangling:\n",
    "### 1. Web Scraping\n",
    "### 2. Pandas Basics"
   ]
  },
  {
   "cell_type": "markdown",
   "id": "8ae46d66",
   "metadata": {},
   "source": [
    "## 1. Web Scraping"
   ]
  },
  {
   "cell_type": "markdown",
   "id": "2544f643",
   "metadata": {},
   "source": [
    "### 1.1 HTML example"
   ]
  },
  {
   "cell_type": "code",
   "execution_count": null,
   "id": "d8c00ceb",
   "metadata": {},
   "outputs": [],
   "source": [
    "import urllib.request\n",
    "import numpy as np\n",
    "from requests import get\n",
    "from time import sleep\n",
    "import random"
   ]
  },
  {
   "cell_type": "code",
   "execution_count": null,
   "id": "66666c1b",
   "metadata": {},
   "outputs": [],
   "source": [
    "url = 'https://www.wikipedia.org'\n",
    "with urllib.request.urlopen(url) as response:\n",
    "    html = response.read()"
   ]
  },
  {
   "cell_type": "code",
   "execution_count": null,
   "id": "ebd810f3",
   "metadata": {},
   "outputs": [],
   "source": [
    "html"
   ]
  },
  {
   "cell_type": "markdown",
   "id": "94b44b57",
   "metadata": {},
   "source": [
    "### 1.2 IMBD extraction with BeautifulSoup"
   ]
  },
  {
   "cell_type": "code",
   "execution_count": null,
   "id": "c39a55e3",
   "metadata": {},
   "outputs": [],
   "source": [
    "from bs4 import BeautifulSoup\n"
   ]
  },
  {
   "cell_type": "code",
   "execution_count": null,
   "id": "d2dcfd02",
   "metadata": {},
   "outputs": [],
   "source": [
    "headers = {'Accept-Language': 'en-US,en;q=0.8'} # If this is not specified, the default language is E  \n",
    "#get request for sci-fi\n",
    "response = get(\"https://www.imdb.com/search/title?genres=sci-fi&start=1&explore=title_type,genres&ref_=adv_prv\",\n",
    "               headers=headers)\n",
    "    \n"
   ]
  },
  {
   "cell_type": "code",
   "execution_count": null,
   "id": "69c52059",
   "metadata": {},
   "outputs": [],
   "source": [
    "response = get(\"https://www.imdb.com/search/title?genres=sci-fi&start=1&explore=title_type,genres&ref_=adv_prv\",\n",
    "         )"
   ]
  },
  {
   "cell_type": "code",
   "execution_count": null,
   "id": "2fcddab3",
   "metadata": {},
   "outputs": [],
   "source": [
    "page_html = BeautifulSoup(response.text, 'html.parser')"
   ]
  },
  {
   "cell_type": "code",
   "execution_count": null,
   "id": "1efe8c71",
   "metadata": {},
   "outputs": [],
   "source": [
    "movie_containers = page_html.find_all('div', class_ = 'lister-item mode-advanced')"
   ]
  },
  {
   "cell_type": "code",
   "execution_count": null,
   "id": "f9d9cf46",
   "metadata": {},
   "outputs": [],
   "source": [
    "movie_containers"
   ]
  },
  {
   "cell_type": "code",
   "execution_count": null,
   "id": "f4a794e4",
   "metadata": {},
   "outputs": [],
   "source": [
    "titles = [] # for titles appending"
   ]
  },
  {
   "cell_type": "code",
   "execution_count": null,
   "id": "50ce9d03",
   "metadata": {},
   "outputs": [],
   "source": [
    "for container in movie_containers:\n",
    "\n",
    "    #conditional for all with metascore\n",
    "    if container.find('div', class_ = 'ratings-metascore') is not None:\n",
    "\n",
    "        #title\n",
    "        title = container.h3.a.text\n",
    "        titles.append(title)"
   ]
  },
  {
   "cell_type": "code",
   "execution_count": null,
   "id": "50e55fb9",
   "metadata": {},
   "outputs": [],
   "source": [
    "titles"
   ]
  },
  {
   "cell_type": "markdown",
   "id": "e4c60c28",
   "metadata": {},
   "source": [
    "## 2. Pandas Basics\n"
   ]
  },
  {
   "cell_type": "markdown",
   "id": "2849021a",
   "metadata": {},
   "source": [
    "### 2.1  Series"
   ]
  },
  {
   "cell_type": "code",
   "execution_count": null,
   "id": "df30c7a6",
   "metadata": {},
   "outputs": [],
   "source": [
    "import pandas as pd\n",
    "import numpy as np"
   ]
  },
  {
   "cell_type": "markdown",
   "id": "f35052ad",
   "metadata": {},
   "source": [
    "#### A Series is a one-dimensional array-like object containing a sequence of values (of similar types to NumPy types) of the same type and an associated array of data labels, called its index."
   ]
  },
  {
   "cell_type": "code",
   "execution_count": null,
   "id": "aa5cdcc3",
   "metadata": {},
   "outputs": [],
   "source": [
    "obj = pd.Series([4, 7, -5, 3])\n",
    "obj"
   ]
  },
  {
   "cell_type": "code",
   "execution_count": null,
   "id": "0a0e73fd",
   "metadata": {},
   "outputs": [],
   "source": [
    "obj.array"
   ]
  },
  {
   "cell_type": "markdown",
   "id": "554260e5",
   "metadata": {},
   "source": [
    "Since we did not specify an index for the data, a default one consisting of the integers 0 through N - 1"
   ]
  },
  {
   "cell_type": "code",
   "execution_count": null,
   "id": "484c26d1",
   "metadata": {},
   "outputs": [],
   "source": [
    "obj.index"
   ]
  },
  {
   "cell_type": "code",
   "execution_count": null,
   "id": "96a37303",
   "metadata": {},
   "outputs": [],
   "source": [
    "obj2 = pd.Series([4, 7, -5, 3], index=[\"d\", \"b\", \"a\", \"c\"])\n",
    "obj2"
   ]
  },
  {
   "cell_type": "code",
   "execution_count": null,
   "id": "b51ac425",
   "metadata": {},
   "outputs": [],
   "source": [
    "obj2.index"
   ]
  },
  {
   "cell_type": "markdown",
   "id": "7d429f21",
   "metadata": {},
   "source": [
    "You can use labels in the index when selecting single values or a set of values:"
   ]
  },
  {
   "cell_type": "code",
   "execution_count": null,
   "id": "1eb4285e",
   "metadata": {},
   "outputs": [],
   "source": [
    "obj2[\"a\"]"
   ]
  },
  {
   "cell_type": "code",
   "execution_count": null,
   "id": "e883c641",
   "metadata": {},
   "outputs": [],
   "source": [
    "obj2[\"d\"] = 6\n",
    "obj2[[\"c\", \"a\", \"d\"]]"
   ]
  },
  {
   "cell_type": "markdown",
   "id": "13fa2e72",
   "metadata": {},
   "source": [
    "Using NumPy functions or NumPy-like operations, such as filtering with a Boolean array, scalar multiplication, or applying math functions, will preserve the index-value link:"
   ]
  },
  {
   "cell_type": "code",
   "execution_count": null,
   "id": "7f01909b",
   "metadata": {},
   "outputs": [],
   "source": [
    "obj2[obj2 > 0]"
   ]
  },
  {
   "cell_type": "code",
   "execution_count": null,
   "id": "cc8c5a67",
   "metadata": {},
   "outputs": [],
   "source": [
    "obj2 * 2"
   ]
  },
  {
   "cell_type": "code",
   "execution_count": null,
   "id": "0c4ea5a4",
   "metadata": {},
   "outputs": [],
   "source": [
    "import numpy as np\n",
    "np.exp(obj2)"
   ]
  },
  {
   "cell_type": "markdown",
   "id": "3b5f5561",
   "metadata": {},
   "source": [
    "Another way to think about a Series is as a fixed-length, ordered dictionary, as it is a mapping of index values to data values. It can be used in many contexts where you might use a dictionary:"
   ]
  },
  {
   "cell_type": "code",
   "execution_count": null,
   "id": "3889abdc",
   "metadata": {},
   "outputs": [],
   "source": [
    "\"e\" in obj2"
   ]
  },
  {
   "cell_type": "code",
   "execution_count": null,
   "id": "6ed48da7",
   "metadata": {},
   "outputs": [],
   "source": [
    "\"b\" in obj2"
   ]
  },
  {
   "cell_type": "markdown",
   "id": "ebbcc343",
   "metadata": {},
   "source": [
    "You can create a Series from a dictionary:\n",
    "\n"
   ]
  },
  {
   "cell_type": "code",
   "execution_count": null,
   "id": "2a651ae3",
   "metadata": {},
   "outputs": [],
   "source": [
    "sdata = {\"Ohio\": 35000, \"Texas\": 71000, \"Oregon\": 16000, \"Utah\": 5000}\n",
    "obj3 = pd.Series(sdata)\n",
    "obj3"
   ]
  },
  {
   "cell_type": "code",
   "execution_count": null,
   "id": "753fb5db",
   "metadata": {},
   "outputs": [],
   "source": [
    "obj3.to_dict()"
   ]
  },
  {
   "cell_type": "markdown",
   "id": "bb76d2b8",
   "metadata": {},
   "source": [
    "When you are only passing a dictionary, the index in the resulting Series will respect the order of the keys according to the dictionary’s keys method, which depends on the key insertion order. You can override this by passing an index with the dictionary keys in the order you want them to appear in the resulting Series:"
   ]
  },
  {
   "cell_type": "code",
   "execution_count": null,
   "id": "77f250e7",
   "metadata": {},
   "outputs": [],
   "source": [
    "states = [\"California\", \"Ohio\", \"Oregon\", \"Texas\"]\n",
    "obj4 = pd.Series(sdata, index=states)\n",
    "obj4"
   ]
  },
  {
   "cell_type": "markdown",
   "id": "5ccf5b54",
   "metadata": {},
   "source": [
    " The isna and notna functions in pandas should be used to detect missing data:"
   ]
  },
  {
   "cell_type": "code",
   "execution_count": null,
   "id": "7bb840ad",
   "metadata": {},
   "outputs": [],
   "source": [
    "pd.isna(obj4)"
   ]
  },
  {
   "cell_type": "code",
   "execution_count": null,
   "id": "e7d70ec2",
   "metadata": {},
   "outputs": [],
   "source": [
    "pd.notna(obj4)"
   ]
  },
  {
   "cell_type": "code",
   "execution_count": null,
   "id": "5bfc6a6d",
   "metadata": {},
   "outputs": [],
   "source": [
    "obj4.isna()"
   ]
  },
  {
   "cell_type": "markdown",
   "id": "30e4aa38",
   "metadata": {},
   "source": [
    "A useful Series feature for many applications is that it automatically aligns by index label in arithmetic operations:"
   ]
  },
  {
   "cell_type": "code",
   "execution_count": null,
   "id": "65c006ce",
   "metadata": {},
   "outputs": [],
   "source": [
    "obj3"
   ]
  },
  {
   "cell_type": "code",
   "execution_count": null,
   "id": "9126a7bc",
   "metadata": {},
   "outputs": [],
   "source": [
    "obj4"
   ]
  },
  {
   "cell_type": "code",
   "execution_count": null,
   "id": "3904fd4c",
   "metadata": {},
   "outputs": [],
   "source": [
    "obj3 + obj4"
   ]
  },
  {
   "cell_type": "markdown",
   "id": "0d3689f2",
   "metadata": {},
   "source": [
    "Both the Series object itself and its index have a name attribute, which integrates with other areas of pandas functionality:"
   ]
  },
  {
   "cell_type": "code",
   "execution_count": null,
   "id": "da6dd17e",
   "metadata": {},
   "outputs": [],
   "source": [
    "obj4.name = \"population\"\n",
    "obj4.index.name = \"state\"\n",
    "obj4"
   ]
  },
  {
   "cell_type": "code",
   "execution_count": null,
   "id": "a992221e",
   "metadata": {},
   "outputs": [],
   "source": [
    "obj"
   ]
  },
  {
   "cell_type": "code",
   "execution_count": null,
   "id": "7a59e70d",
   "metadata": {},
   "outputs": [],
   "source": [
    "obj.index = [\"Bob\", \"Steve\", \"Jeff\", \"Ryan\"]\n",
    "obj"
   ]
  },
  {
   "cell_type": "markdown",
   "id": "e7cadcea",
   "metadata": {},
   "source": [
    "### 2.2 DataFrames"
   ]
  },
  {
   "cell_type": "markdown",
   "id": "0c012b01",
   "metadata": {},
   "source": [
    "#### A DataFrame represents a rectangular table of data and contains an ordered, named collection of columns, each of which can be a different value type (numeric, string, Boolean, etc.). The DataFrame has both a row and column index; it can be thought of as a dictionary of Series all sharing the same index."
   ]
  },
  {
   "cell_type": "markdown",
   "id": "557cfca3",
   "metadata": {},
   "source": [
    "There are many ways to construct a DataFrame, though one of the most common is from a dictionary of equal-length lists or NumPy arrays:"
   ]
  },
  {
   "cell_type": "code",
   "execution_count": null,
   "id": "39ade0ac",
   "metadata": {},
   "outputs": [],
   "source": [
    "data = {\"state\": [\"Ohio\", \"Ohio\", \"Ohio\", \"Nevada\", \"Nevada\", \"Nevada\"],\n",
    "        \"year\": [2000, 2001, 2002, 2001, 2002, 2003],\n",
    "        \"pop\": [1.5, 1.7, 3.6, 2.4, 2.9, 3.2]}\n",
    "df = pd.DataFrame(data)"
   ]
  },
  {
   "cell_type": "code",
   "execution_count": null,
   "id": "64adc5d5",
   "metadata": {},
   "outputs": [],
   "source": [
    "df"
   ]
  },
  {
   "cell_type": "markdown",
   "id": "5e70546d",
   "metadata": {},
   "source": [
    "You can use `head` and `tail` for selection of first and last rows:"
   ]
  },
  {
   "cell_type": "code",
   "execution_count": null,
   "id": "1c7d9b6f",
   "metadata": {},
   "outputs": [],
   "source": [
    "df.head()"
   ]
  },
  {
   "cell_type": "code",
   "execution_count": null,
   "id": "811820ec",
   "metadata": {},
   "outputs": [],
   "source": [
    "df.tail()"
   ]
  },
  {
   "cell_type": "markdown",
   "id": "1ca4dcf3",
   "metadata": {},
   "source": [
    "If you specify a sequence of columns, the DataFrame’s columns will be arranged in that order. Notice the missing values in 'debt':"
   ]
  },
  {
   "cell_type": "code",
   "execution_count": null,
   "id": "a02f364f",
   "metadata": {},
   "outputs": [],
   "source": [
    "df2 = pd.DataFrame(data, columns=[\"year\", \"state\", \"pop\", \"debt\"])\n",
    "df2"
   ]
  },
  {
   "cell_type": "code",
   "execution_count": null,
   "id": "7a213365",
   "metadata": {},
   "outputs": [],
   "source": [
    "df2.columns"
   ]
  },
  {
   "cell_type": "markdown",
   "id": "d2136290",
   "metadata": {},
   "source": [
    "A column in a DataFrame can be retrieved as a Series either by dictionary-like notation or by using the dot attribute notation:\n",
    "\n"
   ]
  },
  {
   "cell_type": "code",
   "execution_count": null,
   "id": "909b45db",
   "metadata": {},
   "outputs": [],
   "source": [
    "df2[\"state\"]"
   ]
  },
  {
   "cell_type": "code",
   "execution_count": null,
   "id": "1876bcf5",
   "metadata": {},
   "outputs": [],
   "source": [
    "df2.year"
   ]
  },
  {
   "cell_type": "markdown",
   "id": "08aa2dfe",
   "metadata": {},
   "source": [
    "Rows can also be retrieved by position or name with the special iloc and loc attributes (more on this later in “Selection on DataFrame with loc and iloc”):"
   ]
  },
  {
   "cell_type": "code",
   "execution_count": null,
   "id": "1d3872d2",
   "metadata": {},
   "outputs": [],
   "source": [
    "df2.loc[1]"
   ]
  },
  {
   "cell_type": "code",
   "execution_count": null,
   "id": "2f76199d",
   "metadata": {},
   "outputs": [],
   "source": [
    "df2.iloc[2]"
   ]
  },
  {
   "cell_type": "markdown",
   "id": "f3beb036",
   "metadata": {},
   "source": [
    "Columns can be modified by assignment. For example, the empty debt column could be assigned a scalar value or an array of values:"
   ]
  },
  {
   "cell_type": "code",
   "execution_count": null,
   "id": "9e23086a",
   "metadata": {},
   "outputs": [],
   "source": [
    "df2[\"debt\"] = 16.5\n",
    "df2"
   ]
  },
  {
   "cell_type": "code",
   "execution_count": null,
   "id": "ccf1aaab",
   "metadata": {},
   "outputs": [],
   "source": [
    "df2[\"debt\"] = np.arange(6.)\n",
    "df2"
   ]
  },
  {
   "cell_type": "markdown",
   "id": "4f17e34a",
   "metadata": {},
   "source": [
    "When you are assigning lists or arrays to a column, the value’s length must match the length of the DataFrame. If you assign a Series, its labels will be realigned exactly to the DataFrame’s index, inserting missing values in any index values not present:"
   ]
  },
  {
   "cell_type": "code",
   "execution_count": null,
   "id": "8585a760",
   "metadata": {},
   "outputs": [],
   "source": [
    "val = pd.Series([-1.2, -1.5, -1.7], index=[\"two\", \"four\", \"five\"])\n",
    "df2[\"debt\"] = val\n",
    "df2"
   ]
  },
  {
   "cell_type": "markdown",
   "id": "ee3a93fc",
   "metadata": {},
   "source": [
    "Assigning a column that doesn’t exist will create a new column.\n",
    "\n",
    "The del keyword will delete columns like with a dictionary. As an example, I first add a new column of Boolean values where the state column equals \"Ohio\":"
   ]
  },
  {
   "cell_type": "code",
   "execution_count": null,
   "id": "e8b675c6",
   "metadata": {},
   "outputs": [],
   "source": [
    "df2[\"eastern\"] = df2[\"state\"] == \"Ohio\"\n",
    "df2"
   ]
  },
  {
   "cell_type": "markdown",
   "id": "51c19202",
   "metadata": {},
   "source": [
    "The del method can then be used to remove this column:"
   ]
  },
  {
   "cell_type": "code",
   "execution_count": null,
   "id": "262a3280",
   "metadata": {},
   "outputs": [],
   "source": [
    "del df2[\"eastern\"]\n",
    "df2.columns"
   ]
  },
  {
   "cell_type": "markdown",
   "id": "a29de842",
   "metadata": {},
   "source": [
    "Another common form of data is a nested dictionary of dictionaries:\n",
    "\n"
   ]
  },
  {
   "cell_type": "code",
   "execution_count": null,
   "id": "6376a112",
   "metadata": {},
   "outputs": [],
   "source": [
    "populations = {\"Ohio\": {2000: 1.5, 2001: 1.7, 2002: 3.6},\n",
    "               \"Nevada\": {2001: 2.4, 2002: 2.9}}"
   ]
  },
  {
   "cell_type": "markdown",
   "id": "c84a6172",
   "metadata": {},
   "source": [
    "If the nested dictionary is passed to the DataFrame, pandas will interpret the outer dictionary keys as the columns, and the inner keys as the row indices:"
   ]
  },
  {
   "cell_type": "code",
   "execution_count": null,
   "id": "1ea1a538",
   "metadata": {},
   "outputs": [],
   "source": [
    "df3 = pd.DataFrame(populations)\n",
    "df3"
   ]
  },
  {
   "cell_type": "markdown",
   "id": "fded6587",
   "metadata": {},
   "source": [
    "You can transpose the DataFrame (swap rows and columns) with similar syntax to a NumPy array:\n",
    "\n"
   ]
  },
  {
   "cell_type": "code",
   "execution_count": null,
   "id": "f37fb177",
   "metadata": {},
   "outputs": [],
   "source": [
    "df3.T"
   ]
  },
  {
   "cell_type": "markdown",
   "id": "f4394091",
   "metadata": {},
   "source": [
    "If a DataFrame’s index and columns have their name attributes set, these will also be displayed:"
   ]
  },
  {
   "cell_type": "code",
   "execution_count": null,
   "id": "cb4f5dba",
   "metadata": {},
   "outputs": [],
   "source": [
    "df3"
   ]
  },
  {
   "cell_type": "code",
   "execution_count": null,
   "id": "2a66a246",
   "metadata": {},
   "outputs": [],
   "source": [
    "df3.index.name = \"year\"\n",
    "df3.columns.name = \"state\"\n",
    "df3"
   ]
  },
  {
   "cell_type": "markdown",
   "id": "0aa850a5",
   "metadata": {},
   "source": [
    "DataFrame’s to_numpy method returns the data contained in the DataFrame as a two-dimensional ndarray:"
   ]
  },
  {
   "cell_type": "code",
   "execution_count": null,
   "id": "44fd18ea",
   "metadata": {},
   "outputs": [],
   "source": [
    "df3.to_numpy()"
   ]
  },
  {
   "cell_type": "code",
   "execution_count": null,
   "id": "4d955969",
   "metadata": {},
   "outputs": [],
   "source": [
    "df2.to_numpy()"
   ]
  },
  {
   "cell_type": "markdown",
   "id": "880c1f54",
   "metadata": {},
   "source": [
    "#### Reindexing\n",
    "Reindex means to create a new object with the values rearranged to align with the new index:\n",
    "\n"
   ]
  },
  {
   "cell_type": "code",
   "execution_count": null,
   "id": "093e578a",
   "metadata": {},
   "outputs": [],
   "source": [
    "obj = pd.Series([4.5, 7.2, -5.3, 3.6], index=[\"d\", \"b\", \"a\", \"c\"])\n",
    "obj"
   ]
  },
  {
   "cell_type": "code",
   "execution_count": null,
   "id": "9acd4ae9",
   "metadata": {},
   "outputs": [],
   "source": [
    "obj2 = obj.reindex([\"a\", \"b\", \"c\", \"d\", \"e\"])\n",
    "obj2"
   ]
  },
  {
   "cell_type": "markdown",
   "id": "11192363",
   "metadata": {},
   "source": [
    "For ordered data like time series, you may want to do some interpolation or filling of values when reindexing. The method option allows us to do this, using a method such as `ffill`, which forward-fills the values:\n",
    "\n"
   ]
  },
  {
   "cell_type": "code",
   "execution_count": null,
   "id": "54502797",
   "metadata": {},
   "outputs": [],
   "source": [
    "obj3 = pd.Series([\"blue\", \"purple\", \"yellow\"], index=[0, 2, 4])\n",
    "obj3"
   ]
  },
  {
   "cell_type": "code",
   "execution_count": null,
   "id": "a6c9dac3",
   "metadata": {},
   "outputs": [],
   "source": [
    "obj3.reindex(np.arange(6), method=\"ffill\")"
   ]
  },
  {
   "cell_type": "markdown",
   "id": "aa98bbc2",
   "metadata": {},
   "source": [
    "With DataFrame, reindex can alter the (row) index, columns, or both. When passed only a sequence, it reindexes the rows in the result:"
   ]
  },
  {
   "cell_type": "code",
   "execution_count": null,
   "id": "bc032eaa",
   "metadata": {},
   "outputs": [],
   "source": [
    "df = pd.DataFrame(np.arange(9).reshape((3, 3)),\n",
    "                     index=[\"a\", \"c\", \"d\"],\n",
    "                     columns=[\"Ohio\", \"Texas\", \"California\"])\n",
    "df"
   ]
  },
  {
   "cell_type": "code",
   "execution_count": null,
   "id": "f2cf11c2",
   "metadata": {},
   "outputs": [],
   "source": [
    "df2 = df.reindex(index=[\"a\", \"b\", \"c\", \"d\"])\n",
    "df2"
   ]
  },
  {
   "cell_type": "markdown",
   "id": "86b4d5fd",
   "metadata": {},
   "source": [
    "The columns can be reindexed with the columns keyword:\n",
    "\n"
   ]
  },
  {
   "cell_type": "code",
   "execution_count": null,
   "id": "54c44ad1",
   "metadata": {},
   "outputs": [],
   "source": [
    "states = [\"Texas\", \"Utah\", \"California\"]\n",
    "df.reindex(columns=states)"
   ]
  },
  {
   "cell_type": "markdown",
   "id": "9fcc4665",
   "metadata": {},
   "source": [
    "#### Dropping entries\n",
    "Dropping one or more entries from an axis is simple if you already have an index array or list without those entries, since you can use the reindex method or .loc-based indexing."
   ]
  },
  {
   "cell_type": "code",
   "execution_count": null,
   "id": "c42ab8ef",
   "metadata": {},
   "outputs": [],
   "source": [
    "obj = pd.Series(np.arange(5.), index=[\"a\", \"b\", \"c\", \"d\", \"e\"])\n",
    "obj"
   ]
  },
  {
   "cell_type": "code",
   "execution_count": null,
   "id": "8e1a4971",
   "metadata": {},
   "outputs": [],
   "source": [
    "new_obj = obj.drop(\"c\")\n",
    "new_obj"
   ]
  },
  {
   "cell_type": "code",
   "execution_count": null,
   "id": "5dd68b24",
   "metadata": {},
   "outputs": [],
   "source": [
    "obj.drop([\"d\", \"c\"])"
   ]
  },
  {
   "cell_type": "code",
   "execution_count": null,
   "id": "329f5b23",
   "metadata": {},
   "outputs": [],
   "source": [
    "obj"
   ]
  },
  {
   "cell_type": "markdown",
   "id": "a1919636",
   "metadata": {},
   "source": [
    "With DataFrame, index values can be deleted from either axis. To illustrate this, we first create an example DataFrame:"
   ]
  },
  {
   "cell_type": "code",
   "execution_count": null,
   "id": "7218291d",
   "metadata": {},
   "outputs": [],
   "source": [
    "data = pd.DataFrame(np.arange(16).reshape((4, 4)),\n",
    "                    index=[\"Ohio\", \"Colorado\", \"Utah\", \"New York\"],\n",
    "                    columns=[\"one\", \"two\", \"three\", \"four\"])\n",
    "data"
   ]
  },
  {
   "cell_type": "markdown",
   "id": "8732ac8e",
   "metadata": {},
   "source": [
    "Calling drop with a sequence of labels will drop values from the row labels (axis 0):\n",
    "\n"
   ]
  },
  {
   "cell_type": "code",
   "execution_count": null,
   "id": "3a0c4f33",
   "metadata": {},
   "outputs": [],
   "source": [
    "data.drop(index=[\"Colorado\", \"Ohio\"])"
   ]
  },
  {
   "cell_type": "markdown",
   "id": "fb4e452a",
   "metadata": {},
   "source": [
    "To drop labels from the columns, instead use the columns keyword:"
   ]
  },
  {
   "cell_type": "code",
   "execution_count": null,
   "id": "9847dcc9",
   "metadata": {},
   "outputs": [],
   "source": [
    "data.drop(columns=[\"two\"])"
   ]
  },
  {
   "cell_type": "markdown",
   "id": "13297135",
   "metadata": {},
   "source": [
    "You can also drop values from the columns by passing axis=1 (which is like NumPy) or axis=\"columns\":"
   ]
  },
  {
   "cell_type": "code",
   "execution_count": null,
   "id": "bdfdad5e",
   "metadata": {},
   "outputs": [],
   "source": [
    "data.drop(\"two\", axis=1)"
   ]
  },
  {
   "cell_type": "code",
   "execution_count": null,
   "id": "19f41958",
   "metadata": {},
   "outputs": [],
   "source": [
    "data.drop([\"two\", \"four\"], axis=\"columns\")"
   ]
  },
  {
   "cell_type": "markdown",
   "id": "1cd07669",
   "metadata": {},
   "source": [
    "#### Indexing, Selection, and Filtering\n",
    "Series indexing works analogously to NumPy array indexing, except you can use the Series’s index values instead of only integers:"
   ]
  },
  {
   "cell_type": "code",
   "execution_count": null,
   "id": "cf130f41",
   "metadata": {},
   "outputs": [],
   "source": [
    "obj = pd.Series(np.arange(4.), index=[\"a\", \"b\", \"c\", \"d\"])\n",
    "obj"
   ]
  },
  {
   "cell_type": "code",
   "execution_count": null,
   "id": "31515e40",
   "metadata": {},
   "outputs": [],
   "source": [
    "obj[\"b\"]"
   ]
  },
  {
   "cell_type": "code",
   "execution_count": null,
   "id": "2491e1c0",
   "metadata": {},
   "outputs": [],
   "source": [
    "obj[1]"
   ]
  },
  {
   "cell_type": "code",
   "execution_count": null,
   "id": "df2d5394",
   "metadata": {},
   "outputs": [],
   "source": [
    "obj[2:4]"
   ]
  },
  {
   "cell_type": "code",
   "execution_count": null,
   "id": "037cb8b0",
   "metadata": {},
   "outputs": [],
   "source": [
    "obj[[\"b\", \"a\", \"d\"]]"
   ]
  },
  {
   "cell_type": "code",
   "execution_count": null,
   "id": "eb5c8a35",
   "metadata": {},
   "outputs": [],
   "source": [
    "obj[[1, 3]]"
   ]
  },
  {
   "cell_type": "code",
   "execution_count": null,
   "id": "d35396b2",
   "metadata": {},
   "outputs": [],
   "source": [
    "obj[obj < 2]"
   ]
  },
  {
   "cell_type": "markdown",
   "id": "dc552005",
   "metadata": {},
   "source": [
    "While you can select data by label this way, the preferred way to select index values is with the special loc operator:\n",
    "\n"
   ]
  },
  {
   "cell_type": "code",
   "execution_count": null,
   "id": "4b8cb38a",
   "metadata": {},
   "outputs": [],
   "source": [
    "obj.loc[[\"b\", \"a\", \"d\"]]"
   ]
  },
  {
   "cell_type": "markdown",
   "id": "0ed1ab88",
   "metadata": {},
   "source": [
    "The reason to prefer loc is because of the different treatment of integers when indexing with `[]`. Regular `[]`-based indexing will treat integers as labels if the index contains integers, so the behavior differs depending on the data type of the index. For example:"
   ]
  },
  {
   "cell_type": "code",
   "execution_count": null,
   "id": "11bc9479",
   "metadata": {},
   "outputs": [],
   "source": [
    "obj1 = pd.Series([1, 2, 3], index=[2, 0, 1])\n",
    "obj2 = pd.Series([1, 2, 3], index=[\"a\", \"b\", \"c\"])"
   ]
  },
  {
   "cell_type": "code",
   "execution_count": null,
   "id": "051f7df6",
   "metadata": {},
   "outputs": [],
   "source": [
    "obj1"
   ]
  },
  {
   "cell_type": "code",
   "execution_count": null,
   "id": "65a61d48",
   "metadata": {},
   "outputs": [],
   "source": [
    "obj2"
   ]
  },
  {
   "cell_type": "code",
   "execution_count": null,
   "id": "c53560d2",
   "metadata": {},
   "outputs": [],
   "source": [
    "obj1[[0, 1, 2]]"
   ]
  },
  {
   "cell_type": "code",
   "execution_count": null,
   "id": "b7d22451",
   "metadata": {},
   "outputs": [],
   "source": [
    "obj2[[0, 1, 2]]"
   ]
  },
  {
   "cell_type": "markdown",
   "id": "6d990c24",
   "metadata": {},
   "source": [
    "When using `loc`, the expression `obj.loc[[0, 1, 2]]` will fail when the index does not contain integers:"
   ]
  },
  {
   "cell_type": "code",
   "execution_count": null,
   "id": "53e1fb4a",
   "metadata": {},
   "outputs": [],
   "source": [
    "obj2.loc[[0, 1]]"
   ]
  },
  {
   "cell_type": "markdown",
   "id": "07a0b459",
   "metadata": {},
   "source": [
    "Since loc operator indexes exclusively with labels, there is also an iloc operator that indexes exclusively with integers to work consistently whether or not the index contains integers:"
   ]
  },
  {
   "cell_type": "code",
   "execution_count": null,
   "id": "50e65671",
   "metadata": {},
   "outputs": [],
   "source": [
    "obj1.iloc[[0, 1, 2]]\n"
   ]
  },
  {
   "cell_type": "code",
   "execution_count": null,
   "id": "4402f02b",
   "metadata": {},
   "outputs": [],
   "source": [
    "obj2.iloc[[0, 1, 2]]\n"
   ]
  },
  {
   "cell_type": "markdown",
   "id": "a90622e6",
   "metadata": {},
   "source": [
    "#### Selection on DataFrame with loc and iloc\n",
    "Like Series, DataFrame has special attributes `loc` and `iloc` for label-based and integer-based indexing, respectively. Since DataFrame is two-dimensional, you can select a subset of the rows and columns with NumPy-like notation using either axis labels `(loc)` or integers `(iloc)`."
   ]
  },
  {
   "cell_type": "markdown",
   "id": "7321a66d",
   "metadata": {},
   "source": [
    "Let’s select a single row by label:"
   ]
  },
  {
   "cell_type": "code",
   "execution_count": null,
   "id": "461a5821",
   "metadata": {},
   "outputs": [],
   "source": [
    "data.loc[\"Colorado\"]"
   ]
  },
  {
   "cell_type": "markdown",
   "id": "79bc3590",
   "metadata": {},
   "source": [
    "The result of selecting a single row is a Series with an index that contains the DataFrame’s column labels. To select multiple roles, creating a new DataFrame, pass a sequence of labels:"
   ]
  },
  {
   "cell_type": "code",
   "execution_count": null,
   "id": "bb8348ae",
   "metadata": {},
   "outputs": [],
   "source": [
    "data.loc[[\"Colorado\", \"New York\"]]"
   ]
  },
  {
   "cell_type": "markdown",
   "id": "5781323a",
   "metadata": {},
   "source": [
    "You can combine both row and column selection in loc by separating the selections with a comma:"
   ]
  },
  {
   "cell_type": "code",
   "execution_count": null,
   "id": "fa959b38",
   "metadata": {},
   "outputs": [],
   "source": [
    "data.loc[\"Colorado\", [\"two\", \"three\"]]"
   ]
  },
  {
   "cell_type": "markdown",
   "id": "7f0b6ab5",
   "metadata": {},
   "source": [
    "We’ll then perform some similar selections with integers using iloc:"
   ]
  },
  {
   "cell_type": "code",
   "execution_count": null,
   "id": "2782860f",
   "metadata": {},
   "outputs": [],
   "source": [
    "data.iloc[2]"
   ]
  },
  {
   "cell_type": "code",
   "execution_count": null,
   "id": "098fd888",
   "metadata": {},
   "outputs": [],
   "source": [
    "data.iloc[[2, 1]]"
   ]
  },
  {
   "cell_type": "code",
   "execution_count": null,
   "id": "7af78145",
   "metadata": {},
   "outputs": [],
   "source": [
    "data.iloc[2, [3, 0, 1]]"
   ]
  },
  {
   "cell_type": "code",
   "execution_count": null,
   "id": "e992e605",
   "metadata": {},
   "outputs": [],
   "source": [
    "data.iloc[[1, 2], [3, 0, 1]]"
   ]
  },
  {
   "cell_type": "markdown",
   "id": "6fa98d58",
   "metadata": {},
   "source": [
    "Both indexing functions work with slices in addition to single labels or lists of labels:"
   ]
  },
  {
   "cell_type": "code",
   "execution_count": null,
   "id": "8b5b21f3",
   "metadata": {},
   "outputs": [],
   "source": [
    "data.loc[:\"Utah\", \"two\"]"
   ]
  },
  {
   "cell_type": "code",
   "execution_count": null,
   "id": "fe4f78f1",
   "metadata": {},
   "outputs": [],
   "source": [
    "data.iloc[:, :3][data.three > 5]"
   ]
  },
  {
   "cell_type": "markdown",
   "id": "1acf9866",
   "metadata": {},
   "source": [
    "Boolean arrays can be used with loc but not iloc:"
   ]
  },
  {
   "cell_type": "code",
   "execution_count": null,
   "id": "daccfa1c",
   "metadata": {},
   "outputs": [],
   "source": [
    "data.loc[data.three >= 2]"
   ]
  },
  {
   "cell_type": "markdown",
   "id": "b6f23942",
   "metadata": {},
   "source": [
    "### 2.3 Combining and Merging Datasets"
   ]
  },
  {
   "cell_type": "markdown",
   "id": "7d3c0f0b",
   "metadata": {},
   "source": [
    "Data contained in pandas objects can be combined in a number of ways:\n",
    "\n",
    "`pandas.merge`\n",
    "Connect rows in DataFrames based on one or more keys. This will be familiar to users of SQL or other relational databases, as it implements database `join` operations.\n",
    "\n",
    "`pandas.concat`\n",
    "Concatenate or “stack” objects together along an axis.\n",
    "\n",
    "`combine_first`\n",
    "Splice together overlapping data to fill in missing values in one object with values from another.\n"
   ]
  },
  {
   "cell_type": "markdown",
   "id": "ccbb9590",
   "metadata": {},
   "source": [
    "#### DataFrame joins\n",
    "Merge or join operations combine datasets by linking rows using one or more keys. These operations are particularly important in relational databases (e.g., SQL-based)."
   ]
  },
  {
   "cell_type": "code",
   "execution_count": null,
   "id": "d2f87882",
   "metadata": {},
   "outputs": [],
   "source": [
    "df1 = pd.DataFrame({\"key\": [\"b\", \"b\", \"a\", \"c\", \"a\", \"a\", \"b\"],\n",
    "                    \"data1\": pd.Series(range(7), dtype=\"Int64\")})\n",
    "df2 = pd.DataFrame({\"key\": [\"a\", \"b\", \"d\"],\n",
    "                    \"data2\": pd.Series(range(3), dtype=\"Int64\")})"
   ]
  },
  {
   "cell_type": "code",
   "execution_count": null,
   "id": "eca744df",
   "metadata": {},
   "outputs": [],
   "source": [
    "df1"
   ]
  },
  {
   "cell_type": "code",
   "execution_count": null,
   "id": "dbaa0167",
   "metadata": {},
   "outputs": [],
   "source": [
    "df2"
   ]
  },
  {
   "cell_type": "code",
   "execution_count": null,
   "id": "5826276d",
   "metadata": {},
   "outputs": [],
   "source": [
    "pd.merge(df1, df2)"
   ]
  },
  {
   "cell_type": "markdown",
   "id": "009149f9",
   "metadata": {},
   "source": [
    "Note that I didn’t specify which column to join on. If that information is not specified, pandas.merge uses the overlapping column names as the keys. It’s a good practice to specify explicitly, though:"
   ]
  },
  {
   "cell_type": "code",
   "execution_count": null,
   "id": "b018786e",
   "metadata": {},
   "outputs": [],
   "source": [
    "pd.merge(df1, df2, on=\"key\")"
   ]
  },
  {
   "cell_type": "markdown",
   "id": "3432aca1",
   "metadata": {},
   "source": [
    "In general, the order of column output in pandas.merge operations is unspecified. If the column names are different in each object, you can specify them separately:"
   ]
  },
  {
   "cell_type": "code",
   "execution_count": null,
   "id": "d1fb2e3e",
   "metadata": {},
   "outputs": [],
   "source": [
    "df3 = pd.DataFrame({\"lkey\": [\"b\", \"b\", \"a\", \"c\", \"a\", \"a\", \"b\"],\n",
    "                    \"data1\": pd.Series(range(7), dtype=\"Int64\")})\n",
    "df4 = pd.DataFrame({\"rkey\": [\"a\", \"b\", \"d\"],\n",
    "                    \"data2\": pd.Series(range(3), dtype=\"Int64\")})"
   ]
  },
  {
   "cell_type": "code",
   "execution_count": null,
   "id": "1cb6a93e",
   "metadata": {},
   "outputs": [],
   "source": [
    "df3"
   ]
  },
  {
   "cell_type": "code",
   "execution_count": null,
   "id": "4c525cbc",
   "metadata": {},
   "outputs": [],
   "source": [
    "df4"
   ]
  },
  {
   "cell_type": "code",
   "execution_count": null,
   "id": "0a875457",
   "metadata": {},
   "outputs": [],
   "source": [
    "pd.merge(df3, df4, left_on=\"lkey\", right_on=\"rkey\")"
   ]
  },
  {
   "cell_type": "markdown",
   "id": "47b4f4fa",
   "metadata": {},
   "source": [
    "The \"c\" and \"d\" values and associated data are missing from the result. By default, pandas.merge does an \"inner\" join; the keys in the result are the intersection, or the common set found in both tables. Other possible options are \"left\", \"right\", and \"outer\". The outer join takes the union of the keys, combining the effect of applying both left and right joins:"
   ]
  },
  {
   "cell_type": "code",
   "execution_count": null,
   "id": "763900e5",
   "metadata": {},
   "outputs": [],
   "source": [
    "pd.merge(df1, df2, how=\"outer\")"
   ]
  },
  {
   "cell_type": "code",
   "execution_count": null,
   "id": "75e03dd1",
   "metadata": {},
   "outputs": [],
   "source": [
    "pd.merge(df3, df4, left_on=\"lkey\", right_on=\"rkey\", how=\"outer\")"
   ]
  },
  {
   "cell_type": "markdown",
   "id": "7465722b",
   "metadata": {},
   "source": [
    "In an outer join, rows from the left or right DataFrame objects that do not match on keys in the other DataFrame will appear with NA values in the other DataFrame’s columns for the nonmatching rows.\n",
    "\n"
   ]
  },
  {
   "cell_type": "markdown",
   "id": "b17293a4",
   "metadata": {},
   "source": [
    "Many-to-many left and inner joins examples:\n",
    "\n"
   ]
  },
  {
   "cell_type": "code",
   "execution_count": null,
   "id": "375ab4fe",
   "metadata": {},
   "outputs": [],
   "source": [
    "df1 = pd.DataFrame({\"key\": [\"b\", \"b\", \"a\", \"c\", \"a\", \"b\"],\n",
    "                    \"data1\": pd.Series(range(6), dtype=\"Int64\")})\n",
    "df2 = pd.DataFrame({\"key\": [\"a\", \"b\", \"a\", \"b\", \"d\"],\n",
    "                    \"data2\": pd.Series(range(5), dtype=\"Int64\")})"
   ]
  },
  {
   "cell_type": "code",
   "execution_count": null,
   "id": "a82dcb43",
   "metadata": {},
   "outputs": [],
   "source": [
    "df1"
   ]
  },
  {
   "cell_type": "markdown",
   "id": "55801684",
   "metadata": {},
   "source": [
    "## "
   ]
  },
  {
   "cell_type": "code",
   "execution_count": null,
   "id": "71d9576c",
   "metadata": {},
   "outputs": [],
   "source": [
    "df2"
   ]
  },
  {
   "cell_type": "code",
   "execution_count": null,
   "id": "004183b9",
   "metadata": {},
   "outputs": [],
   "source": [
    "pd.merge(df1, df2, on=\"key\", how=\"left\")"
   ]
  },
  {
   "cell_type": "code",
   "execution_count": null,
   "id": "c43d8aa6",
   "metadata": {},
   "outputs": [],
   "source": [
    "pd.merge(df1, df2, how=\"inner\")"
   ]
  },
  {
   "cell_type": "markdown",
   "id": "6129ddb5",
   "metadata": {},
   "source": [
    "In some cases, the merge key(s) in a DataFrame will be found in its index (row labels). In this case, you can pass `left_index=True` or `right_index=True` (or both) to indicate that the index should be used as the merge key:"
   ]
  },
  {
   "cell_type": "code",
   "execution_count": null,
   "id": "d1df3997",
   "metadata": {},
   "outputs": [],
   "source": [
    "left1 = pd.DataFrame({\"key\": [\"a\", \"b\", \"a\", \"a\", \"b\", \"c\"],\n",
    "                      \"value\": pd.Series(range(6), dtype=\"Int64\")})\n",
    "right1 = pd.DataFrame({\"group_val\": [3.5, 7]}, index=[\"a\", \"b\"])\n"
   ]
  },
  {
   "cell_type": "code",
   "execution_count": null,
   "id": "d76f61a7",
   "metadata": {},
   "outputs": [],
   "source": [
    "left1"
   ]
  },
  {
   "cell_type": "code",
   "execution_count": null,
   "id": "748eb05f",
   "metadata": {},
   "outputs": [],
   "source": [
    "right1"
   ]
  },
  {
   "cell_type": "code",
   "execution_count": null,
   "id": "0edc7392",
   "metadata": {},
   "outputs": [],
   "source": [
    "pd.merge(left1, right1, left_on=\"key\", right_index=True)"
   ]
  },
  {
   "cell_type": "markdown",
   "id": "b069f89e",
   "metadata": {},
   "source": [
    "#### Concatenating"
   ]
  },
  {
   "cell_type": "markdown",
   "id": "521b953b",
   "metadata": {},
   "source": [
    "Another kind of data combination operation is referred to interchangeably as concatenation or stacking. NumPy’s concatenate function can do this with NumPy arrays:"
   ]
  },
  {
   "cell_type": "code",
   "execution_count": null,
   "id": "6388ba80",
   "metadata": {},
   "outputs": [],
   "source": [
    "arr = np.arange(12).reshape((3, 4))\n"
   ]
  },
  {
   "cell_type": "code",
   "execution_count": null,
   "id": "728f2135",
   "metadata": {},
   "outputs": [],
   "source": [
    "arr"
   ]
  },
  {
   "cell_type": "code",
   "execution_count": null,
   "id": "f3309275",
   "metadata": {},
   "outputs": [],
   "source": [
    "np.concatenate([arr, arr], axis=1)"
   ]
  },
  {
   "cell_type": "markdown",
   "id": "85019a7d",
   "metadata": {},
   "source": [
    "The concat function in pandas provides a consistent way to combine Series or DataFrames taking into account index information. Suppose we have three Series with no index overlap:\n",
    "\n"
   ]
  },
  {
   "cell_type": "code",
   "execution_count": null,
   "id": "81a8398d",
   "metadata": {},
   "outputs": [],
   "source": [
    "s1 = pd.Series([0, 1], index=[\"a\", \"b\"], dtype=\"Int64\")\n",
    "s2 = pd.Series([2, 3, 4], index=[\"c\", \"d\", \"e\"], dtype=\"Int64\")\n",
    "s3 = pd.Series([5, 6], index=[\"f\", \"g\"], dtype=\"Int64\")"
   ]
  },
  {
   "cell_type": "code",
   "execution_count": null,
   "id": "3bcc83a6",
   "metadata": {},
   "outputs": [],
   "source": [
    "s1"
   ]
  },
  {
   "cell_type": "code",
   "execution_count": null,
   "id": "43e261d1",
   "metadata": {},
   "outputs": [],
   "source": [
    "s2"
   ]
  },
  {
   "cell_type": "code",
   "execution_count": null,
   "id": "cc1a7890",
   "metadata": {},
   "outputs": [],
   "source": [
    "s3"
   ]
  },
  {
   "cell_type": "code",
   "execution_count": null,
   "id": "f39ef935",
   "metadata": {},
   "outputs": [],
   "source": [
    "pd.concat([s1, s2, s3])"
   ]
  },
  {
   "cell_type": "code",
   "execution_count": null,
   "id": "986e9d0f",
   "metadata": {},
   "outputs": [],
   "source": [
    "pd.concat([s1, s2, s3], axis=\"columns\")\n"
   ]
  },
  {
   "cell_type": "markdown",
   "id": "2084077c",
   "metadata": {},
   "source": [
    "By default, pandas.concat works along `axis=\"index\"`, producing another Series. If you pass `axis=\"columns\"`, the result will instead be a DataFrame:"
   ]
  },
  {
   "cell_type": "code",
   "execution_count": null,
   "id": "8ee598c4",
   "metadata": {},
   "outputs": [],
   "source": [
    "pd.concat([s1, s2, s3], axis=\"columns\")"
   ]
  },
  {
   "cell_type": "markdown",
   "id": "9cdef724",
   "metadata": {},
   "source": [
    "In this case there is no overlap on the other axis, which as you can see is the union (the \"outer\" join) of the indexes. You can instead intersect them by passing `join=\"inner\"`:"
   ]
  },
  {
   "cell_type": "code",
   "execution_count": null,
   "id": "5cb49e68",
   "metadata": {},
   "outputs": [],
   "source": [
    "s4 = pd.concat([s1, s3])"
   ]
  },
  {
   "cell_type": "code",
   "execution_count": null,
   "id": "199f6b02",
   "metadata": {},
   "outputs": [],
   "source": [
    "s4"
   ]
  },
  {
   "cell_type": "code",
   "execution_count": null,
   "id": "9b7d5cab",
   "metadata": {},
   "outputs": [],
   "source": [
    "pd.concat([s1, s4], axis=\"columns\")"
   ]
  },
  {
   "cell_type": "code",
   "execution_count": null,
   "id": "7c2effb5",
   "metadata": {},
   "outputs": [],
   "source": [
    "pd.concat([s1, s4], axis=\"columns\", join=\"inner\")"
   ]
  },
  {
   "cell_type": "markdown",
   "id": "cbb4f72c",
   "metadata": {},
   "source": [
    "## 3. Extra Reading"
   ]
  },
  {
   "cell_type": "markdown",
   "id": "a6940536",
   "metadata": {},
   "source": [
    "### 3.1 Web Scraping with Selenium\n",
    "#### Suggested Reading: https://www.scrapingbee.com/blog/selenium-python/"
   ]
  },
  {
   "cell_type": "markdown",
   "id": "cf6317a4",
   "metadata": {},
   "source": [
    "### 3.2 Read files to DataFrames\n",
    "#### Suggested Reading: https://pandas.pydata.org/docs/reference/api/pandas.read_csv.html"
   ]
  },
  {
   "cell_type": "markdown",
   "id": "f448e25c",
   "metadata": {},
   "source": [
    "### 3.3 Reshape and Pivoting\n",
    "#### Suggested Reading: https://pandas.pydata.org/docs/user_guide/reshaping.html"
   ]
  },
  {
   "cell_type": "markdown",
   "id": "2ebea673",
   "metadata": {},
   "source": [
    "### References:\n",
    "* https://www.freecodecamp.org/news/web-scraping-sci-fi-movies-from-imdb-with-python/\n",
    "* https://wesmckinney.com/book/"
   ]
  }
 ],
 "metadata": {
  "kernelspec": {
   "display_name": "Python 3 (ipykernel)",
   "language": "python",
   "name": "python3"
  },
  "language_info": {
   "codemirror_mode": {
    "name": "ipython",
    "version": 3
   },
   "file_extension": ".py",
   "mimetype": "text/x-python",
   "name": "python",
   "nbconvert_exporter": "python",
   "pygments_lexer": "ipython3",
   "version": "3.9.12"
  }
 },
 "nbformat": 4,
 "nbformat_minor": 5
}
