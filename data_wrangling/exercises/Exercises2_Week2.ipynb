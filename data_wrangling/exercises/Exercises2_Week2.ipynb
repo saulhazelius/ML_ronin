{
 "cells": [
  {
   "cell_type": "markdown",
   "id": "5e8ff229",
   "metadata": {},
   "source": [
    "## Week 2 Session 2 Exercises"
   ]
  },
  {
   "cell_type": "markdown",
   "id": "f46abfa0",
   "metadata": {},
   "source": [
    "### Use el archivo movies.csv para:"
   ]
  },
  {
   "cell_type": "markdown",
   "id": "ad92854b",
   "metadata": {},
   "source": [
    "#### 1. Crear un dataframe a partir de movies.csv que contenga las columnas 'imdb_score' y 'aspect_ratio'"
   ]
  },
  {
   "cell_type": "code",
   "execution_count": null,
   "id": "1a02b979",
   "metadata": {},
   "outputs": [],
   "source": []
  },
  {
   "cell_type": "markdown",
   "id": "5e67263c",
   "metadata": {},
   "source": [
    "#### 2. Remover filas con valores nulos"
   ]
  },
  {
   "cell_type": "code",
   "execution_count": null,
   "id": "aed6c12a",
   "metadata": {},
   "outputs": [],
   "source": []
  },
  {
   "cell_type": "markdown",
   "id": "2f93eb96",
   "metadata": {},
   "source": [
    "#### 3. Crear una nueva columna 'binned' que consista en categorías desde 'imdb_score'. Serán 5 categorías "
   ]
  },
  {
   "cell_type": "code",
   "execution_count": null,
   "id": "e3c6dba0",
   "metadata": {},
   "outputs": [],
   "source": []
  },
  {
   "cell_type": "markdown",
   "id": "40b6c87c",
   "metadata": {},
   "source": [
    "#### Standarizar la columna_aspect_ratio"
   ]
  },
  {
   "cell_type": "code",
   "execution_count": null,
   "id": "98fcc157",
   "metadata": {},
   "outputs": [],
   "source": []
  }
 ],
 "metadata": {
  "kernelspec": {
   "display_name": "Python 3 (ipykernel)",
   "language": "python",
   "name": "python3"
  },
  "language_info": {
   "codemirror_mode": {
    "name": "ipython",
    "version": 3
   },
   "file_extension": ".py",
   "mimetype": "text/x-python",
   "name": "python",
   "nbconvert_exporter": "python",
   "pygments_lexer": "ipython3",
   "version": "3.9.12"
  }
 },
 "nbformat": 4,
 "nbformat_minor": 5
}
