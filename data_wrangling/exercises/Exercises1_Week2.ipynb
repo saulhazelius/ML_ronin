{
 "cells": [
  {
   "cell_type": "markdown",
   "id": "bb4ed3fa",
   "metadata": {},
   "source": [
    "## Week 2 Session 1 Exercises"
   ]
  },
  {
   "cell_type": "markdown",
   "id": "48ef70b9",
   "metadata": {},
   "source": [
    "### 1. Web scraping"
   ]
  },
  {
   "cell_type": "markdown",
   "id": "23ad2994",
   "metadata": {},
   "source": [
    "Use la libreria requests y bs4 para extraer todos los links dentro de la URL: 'https://en.wikipedia.org/wiki/Main_Page'. TIP: use los elementos 'href' para encontrar los links."
   ]
  },
  {
   "cell_type": "code",
   "execution_count": 4,
   "id": "2c2641da",
   "metadata": {},
   "outputs": [],
   "source": [
    "# Escriba su código acá "
   ]
  },
  {
   "cell_type": "markdown",
   "id": "852b411a",
   "metadata": {},
   "source": [
    "### 2. Pandas"
   ]
  },
  {
   "cell_type": "code",
   "execution_count": 5,
   "id": "1401e625",
   "metadata": {},
   "outputs": [],
   "source": [
    "import pandas as pd"
   ]
  },
  {
   "cell_type": "markdown",
   "id": "fb37784e",
   "metadata": {},
   "source": [
    "1. Cree una Series con la lista \n",
    "\n",
    "`lista = [2, 4, 5, 6, 9]`\n",
    "pero que contenga indexes impares solamente"
   ]
  },
  {
   "cell_type": "code",
   "execution_count": null,
   "id": "996604f8",
   "metadata": {},
   "outputs": [],
   "source": []
  },
  {
   "cell_type": "markdown",
   "id": "269e5b1b",
   "metadata": {},
   "source": [
    "2. Convierta la lista 2D, en un DF usando los nombres de columnas `['id', 'name', 'age']`.\n",
    "\n",
    "`lista_2D = [[2, 'Alberto', 22], [1, 'Roberto', 25], [1, 'Gilberto', 24]]`"
   ]
  },
  {
   "cell_type": "code",
   "execution_count": null,
   "id": "071ff60e",
   "metadata": {},
   "outputs": [],
   "source": []
  },
  {
   "cell_type": "markdown",
   "id": "eece6ad9",
   "metadata": {},
   "source": [
    "3. Cree un nuevo DF a partir del DF resultante del ejercicio 2 pero ordenando los valores por 'id'\n"
   ]
  },
  {
   "cell_type": "code",
   "execution_count": null,
   "id": "85c1017c",
   "metadata": {},
   "outputs": [],
   "source": []
  },
  {
   "cell_type": "markdown",
   "id": "4099c9ca",
   "metadata": {},
   "source": [
    "4. Extraiga las primeras dos filas del pasado DF resultante del ejercicio3.\n",
    "\n"
   ]
  },
  {
   "cell_type": "code",
   "execution_count": null,
   "id": "cb2e2f94",
   "metadata": {},
   "outputs": [],
   "source": []
  },
  {
   "cell_type": "markdown",
   "id": "b6f8abfa",
   "metadata": {},
   "source": [
    "5. Extraiga el segundo valor del DF resultante del ejercicio3 pero sólo para la columna 'name'."
   ]
  },
  {
   "cell_type": "code",
   "execution_count": null,
   "id": "c1b1962f",
   "metadata": {},
   "outputs": [],
   "source": []
  },
  {
   "cell_type": "markdown",
   "id": "3205a823",
   "metadata": {},
   "source": [
    "6. Cree un nuevo dataframe del DF del ejercicio 2 pero con la condicion de que el valor de 'age' sea mayor o igual a 24.\n",
    "\n"
   ]
  },
  {
   "cell_type": "code",
   "execution_count": null,
   "id": "ef37e49d",
   "metadata": {},
   "outputs": [],
   "source": []
  }
 ],
 "metadata": {
  "kernelspec": {
   "display_name": "Python 3 (ipykernel)",
   "language": "python",
   "name": "python3"
  },
  "language_info": {
   "codemirror_mode": {
    "name": "ipython",
    "version": 3
   },
   "file_extension": ".py",
   "mimetype": "text/x-python",
   "name": "python",
   "nbconvert_exporter": "python",
   "pygments_lexer": "ipython3",
   "version": "3.9.12"
  }
 },
 "nbformat": 4,
 "nbformat_minor": 5
}
