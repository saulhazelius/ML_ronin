{
 "cells": [
  {
   "cell_type": "markdown",
   "id": "f2e60216",
   "metadata": {},
   "source": [
    "#### 1.- Excriba un código para remover el segundo elemento de la lista :\n",
    "#### my_list = [1, 2, 3]"
   ]
  },
  {
   "cell_type": "code",
   "execution_count": null,
   "id": "82046c38",
   "metadata": {},
   "outputs": [],
   "source": []
  },
  {
   "cell_type": "markdown",
   "id": "a7899df6",
   "metadata": {},
   "source": [
    "#### 2.- Cree una lista que sea: [4, 10, 2, 1, 23] y use string slicing para encontrar los 3 términos de en medio"
   ]
  },
  {
   "cell_type": "code",
   "execution_count": null,
   "id": "37b25003",
   "metadata": {},
   "outputs": [],
   "source": []
  },
  {
   "cell_type": "markdown",
   "id": "e697ff97",
   "metadata": {},
   "source": [
    "#### 3.- Del siguiente dictionary, cambie el 'last_name' a 'Smith':\n",
    "#### my_dict = {'first_name': 'James', 'last_name': 'Doe', 'email': 'jdoe@gmail.com'}"
   ]
  },
  {
   "cell_type": "code",
   "execution_count": null,
   "id": "1d67a3c6",
   "metadata": {},
   "outputs": [],
   "source": []
  },
  {
   "cell_type": "markdown",
   "id": "0dace488",
   "metadata": {},
   "source": [
    "#### 4.- ¿Cómo crearía una función que acepte dos argumentos de posición?"
   ]
  },
  {
   "cell_type": "code",
   "execution_count": null,
   "id": "9d40c24a",
   "metadata": {},
   "outputs": [],
   "source": []
  },
  {
   "cell_type": "markdown",
   "id": "b9bd2cd1",
   "metadata": {},
   "source": [
    "#### 5.- ¿Cómo se nombra y qué es un inicializador de class (class initializer)?"
   ]
  },
  {
   "cell_type": "code",
   "execution_count": null,
   "id": "def566aa",
   "metadata": {},
   "outputs": [],
   "source": []
  },
  {
   "cell_type": "markdown",
   "id": "bc2ab675",
   "metadata": {},
   "source": [
    "#### 6.- ¿Cómo se añade nuva data a un archivo pre-existente?"
   ]
  },
  {
   "cell_type": "code",
   "execution_count": null,
   "id": "70c9ad16",
   "metadata": {},
   "outputs": [],
   "source": []
  }
 ],
 "metadata": {
  "kernelspec": {
   "display_name": "Python 3 (ipykernel)",
   "language": "python",
   "name": "python3"
  },
  "language_info": {
   "codemirror_mode": {
    "name": "ipython",
    "version": 3
   },
   "file_extension": ".py",
   "mimetype": "text/x-python",
   "name": "python",
   "nbconvert_exporter": "python",
   "pygments_lexer": "ipython3",
   "version": "3.9.12"
  }
 },
 "nbformat": 4,
 "nbformat_minor": 5
}
