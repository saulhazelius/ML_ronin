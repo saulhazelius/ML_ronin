{
 "cells": [
  {
   "cell_type": "markdown",
   "id": "bb4ed3fa",
   "metadata": {},
   "source": [
    "## Week 1 Session 1 Exercises"
   ]
  },
  {
   "cell_type": "markdown",
   "id": "48ef70b9",
   "metadata": {},
   "source": [
    "### 1. Write functions"
   ]
  },
  {
   "cell_type": "markdown",
   "id": "37363c23",
   "metadata": {},
   "source": [
    "1 Escriba una función llamada benefits() que regrese la lista de strings: \"Codigo limpio\", \"Codigo legible\", \"Buenas practicas\", \"Codigo reusable\"\n",
    "\n",
    "2 Escriba una función llamada create_sentence(info) que reciba una string y retorne una sentencia empezando con el string que recibe y concatenando el string: \"es un benecifio de emplear funciones\".\n",
    "\n",
    "3 Escriba una función all_benefits() que llame a la función del punto 2 para cada elemento de la lista creada en el punto 1"
   ]
  },
  {
   "cell_type": "code",
   "execution_count": null,
   "id": "99c650b7",
   "metadata": {},
   "outputs": [],
   "source": [
    "def benefits():\n",
    "    \n",
    "    return []"
   ]
  },
  {
   "cell_type": "code",
   "execution_count": null,
   "id": "168bfe36",
   "metadata": {},
   "outputs": [],
   "source": [
    "def create_sentence(info):\n",
    "    \n",
    "    return \"\" "
   ]
  },
  {
   "cell_type": "code",
   "execution_count": null,
   "id": "c9435a0e",
   "metadata": {},
   "outputs": [],
   "source": [
    "def all_benefits():\n",
    "    pass"
   ]
  },
  {
   "cell_type": "markdown",
   "id": "98500951",
   "metadata": {},
   "source": [
    "### 2. Loop"
   ]
  },
  {
   "cell_type": "markdown",
   "id": "5bd2ca73",
   "metadata": {},
   "source": [
    "Corra la siguiente celda y emplee la lista randomlist para escribir una función llamada print_number() que imprima todos los numeros impares de esa lista sólo si el numero es menor a 150\n"
   ]
  },
  {
   "cell_type": "code",
   "execution_count": null,
   "id": "d12cb1eb",
   "metadata": {},
   "outputs": [],
   "source": [
    "import random\n",
    "randomlist = []\n",
    "for i in range(0,150):\n",
    "    n = random.randint(1,300)\n",
    "    randomlist.append(n)\n"
   ]
  },
  {
   "cell_type": "code",
   "execution_count": null,
   "id": "1e1e5e65",
   "metadata": {},
   "outputs": [],
   "source": [
    "def print_number():\n",
    "    pass"
   ]
  },
  {
   "cell_type": "markdown",
   "id": "036b70fb",
   "metadata": {},
   "source": [
    "### 3. Write a Class\n"
   ]
  },
  {
   "cell_type": "markdown",
   "id": "35b5c773",
   "metadata": {},
   "source": [
    "Defina una Class llamada Bola que tenga los atributos: color y peso. Ademas la Class debe tener un metodo llamado info que imprima la informacion de la Bola.\n",
    "Por ejemplo, al inicializar bola = Bola('negro', 30), bola.info() imprimiría: \"La bola tiene color: negro y peso de 30 kg\"    \n",
    "    \n",
    "    "
   ]
  },
  {
   "cell_type": "code",
   "execution_count": null,
   "id": "c36733ab",
   "metadata": {},
   "outputs": [],
   "source": []
  }
 ],
 "metadata": {
  "kernelspec": {
   "display_name": "Python 3 (ipykernel)",
   "language": "python",
   "name": "python3"
  },
  "language_info": {
   "codemirror_mode": {
    "name": "ipython",
    "version": 3
   },
   "file_extension": ".py",
   "mimetype": "text/x-python",
   "name": "python",
   "nbconvert_exporter": "python",
   "pygments_lexer": "ipython3",
   "version": "3.9.12"
  }
 },
 "nbformat": 4,
 "nbformat_minor": 5
}
