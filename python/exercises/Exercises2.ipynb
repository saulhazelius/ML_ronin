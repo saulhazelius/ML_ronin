{
 "cells": [
  {
   "cell_type": "markdown",
   "id": "ed9ddf2b",
   "metadata": {},
   "source": [
    "### 1. Read a file and create a list of lines length\n"
   ]
  },
  {
   "cell_type": "markdown",
   "id": "54c27678",
   "metadata": {},
   "source": [
    "Escriba una función llamada \"get_lines_length\" para leer el archivo `created_file.txt` y que regrese una lista con las longitudes de cada linea"
   ]
  },
  {
   "cell_type": "code",
   "execution_count": null,
   "id": "c347a457",
   "metadata": {},
   "outputs": [],
   "source": [
    "def get_lines_length():\n",
    "    return []"
   ]
  },
  {
   "cell_type": "markdown",
   "id": "3d2ac6f1",
   "metadata": {},
   "source": [
    "### 2. Convert functions to lambda functions\n"
   ]
  },
  {
   "cell_type": "markdown",
   "id": "1f602cc9",
   "metadata": {},
   "source": [
    "Convierta la funcion \"mascotas\" a una función lambda y ejecutela con la lista `mis_pets`.\n"
   ]
  },
  {
   "cell_type": "code",
   "execution_count": 1,
   "id": "4be327fc",
   "metadata": {},
   "outputs": [],
   "source": [
    "mis_pets = ['fido', 'cati', 'loki', 'sami']"
   ]
  },
  {
   "cell_type": "code",
   "execution_count": 2,
   "id": "843ad4fd",
   "metadata": {},
   "outputs": [],
   "source": [
    "def mascotas():\n",
    "    Mascotas_ = []\n",
    "\n",
    "    for pet in mis_pets:\n",
    "        pet_ = pet.upper()\n",
    "        Mascotas_.append(pet_)\n",
    "        \n",
    "    return Mascotas_"
   ]
  },
  {
   "cell_type": "code",
   "execution_count": 3,
   "id": "c445b5d1",
   "metadata": {},
   "outputs": [
    {
     "name": "stdout",
     "output_type": "stream",
     "text": [
      "['FIDO', 'CATI', 'LOKI', 'SAMI']\n"
     ]
    }
   ],
   "source": [
    "print(mascotas())"
   ]
  },
  {
   "cell_type": "code",
   "execution_count": null,
   "id": "f22d9090",
   "metadata": {},
   "outputs": [],
   "source": [
    "# Escriba la funcion lambda acá"
   ]
  },
  {
   "cell_type": "markdown",
   "id": "f9b8c656",
   "metadata": {},
   "source": [
    "### 3. Evaluate NumPy array operations\n"
   ]
  },
  {
   "cell_type": "markdown",
   "id": "88d97433",
   "metadata": {},
   "source": [
    "3.1 Remueva las filas que contengan valores no numericos de `n_arr`."
   ]
  },
  {
   "cell_type": "code",
   "execution_count": 5,
   "id": "26571f3f",
   "metadata": {},
   "outputs": [],
   "source": [
    "import numpy as np\n",
    "n_arr = np.array([[12.5, 22.3, 3.3],\n",
    "                  [42, np.nan, np.nan]])"
   ]
  },
  {
   "cell_type": "code",
   "execution_count": null,
   "id": "bebf6c47",
   "metadata": {},
   "outputs": [],
   "source": [
    "# Escriba su respuesta acá"
   ]
  },
  {
   "cell_type": "markdown",
   "id": "401c758a",
   "metadata": {},
   "source": [
    "3.2 Dada la lista de listas `chk_listas`, y el array `chk_arr` escriba un código que imprima para cada lista de `chk_listas` si está contenida en `chk_arr` o no. "
   ]
  },
  {
   "cell_type": "code",
   "execution_count": 7,
   "id": "8938bb28",
   "metadata": {},
   "outputs": [],
   "source": [
    "chk_arr = np.array([[1, 2, 3, 4, 5],\n",
    "                   [6, 7, 8, 9, 10],\n",
    "                   [11, 12, 13, 14, 15],\n",
    "                   [16, 17, 18, 19, 20]\n",
    "                   ])"
   ]
  },
  {
   "cell_type": "code",
   "execution_count": 9,
   "id": "dd1f0a96",
   "metadata": {},
   "outputs": [],
   "source": [
    "chk_listas  = [[1,2,3,4,5],          \n",
    "      [16,17,20,19,18],    \n",
    "      [3,2,5,-4,5],             \n",
    "      [11,12,13,14,15]]"
   ]
  },
  {
   "cell_type": "code",
   "execution_count": null,
   "id": "de0162a5",
   "metadata": {},
   "outputs": [],
   "source": [
    "# Escriba su respuesta acá"
   ]
  }
 ],
 "metadata": {
  "kernelspec": {
   "display_name": "Python 3 (ipykernel)",
   "language": "python",
   "name": "python3"
  },
  "language_info": {
   "codemirror_mode": {
    "name": "ipython",
    "version": 3
   },
   "file_extension": ".py",
   "mimetype": "text/x-python",
   "name": "python",
   "nbconvert_exporter": "python",
   "pygments_lexer": "ipython3",
   "version": "3.9.12"
  }
 },
 "nbformat": 4,
 "nbformat_minor": 5
}
