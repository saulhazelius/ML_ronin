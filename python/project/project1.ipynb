{
 "cells": [
  {
   "cell_type": "markdown",
   "id": "90a0bc52",
   "metadata": {},
   "source": [
    "## En este proyecto se evaluarán principalmente habilidades para:\n",
    "    * abrir archivos\n",
    "    * manipular strings\n",
    "    * emplear loops\n",
    "    * estructurar funciones\n",
    "    * manejar NumPy arrays"
   ]
  },
  {
   "cell_type": "markdown",
   "id": "1a70e309",
   "metadata": {},
   "source": [
    "### Instrucciones:\n",
    "#### Escriba un código para leer el archivo `created_file.txt` y obtener un np array conteniendo todos los floats del archivo.\n",
    "#### El array tendrá dimensiones n x m donde n es el número de lineas conteniendo al menos un float y m es el maximo numero de floats en una linea del archivo. El array entonces incluira paddings con zeros para las filas con un numero de floats menores a m.\n",
    "#### Por ejemplo si el archivo tuviera 3 filas con 2, 4, y 1 floats en cada linea, el array resultante sería \n",
    "`[[float, float, 0, 0],\n",
    "[float, float, float, float],\n",
    "[float, 0, 0, 0]]`\n",
    "#### Explique cada paso en su solucion. \n",
    "\n",
    "\n"
   ]
  },
  {
   "cell_type": "code",
   "execution_count": 4,
   "id": "152d7d83",
   "metadata": {},
   "outputs": [],
   "source": [
    "##### Escriba el código a partir de acá:#####"
   ]
  },
  {
   "cell_type": "code",
   "execution_count": null,
   "id": "69ae4801",
   "metadata": {},
   "outputs": [],
   "source": []
  }
 ],
 "metadata": {
  "kernelspec": {
   "display_name": "Python 3 (ipykernel)",
   "language": "python",
   "name": "python3"
  },
  "language_info": {
   "codemirror_mode": {
    "name": "ipython",
    "version": 3
   },
   "file_extension": ".py",
   "mimetype": "text/x-python",
   "name": "python",
   "nbconvert_exporter": "python",
   "pygments_lexer": "ipython3",
   "version": "3.9.12"
  }
 },
 "nbformat": 4,
 "nbformat_minor": 5
}
