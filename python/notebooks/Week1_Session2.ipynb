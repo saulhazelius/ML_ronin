{
 "cells": [
  {
   "cell_type": "markdown",
   "id": "4bbf48b1",
   "metadata": {},
   "source": [
    "## Python Introduction II:\n",
    "### 1. Lambda Functions\n",
    "### 2. Reading files\n",
    "### 3. NumPy \n",
    "### 4. Extra reading"
   ]
  },
  {
   "cell_type": "markdown",
   "id": "dfa21a4c",
   "metadata": {},
   "source": [
    "## 1. Lambda Functions"
   ]
  },
  {
   "cell_type": "markdown",
   "id": "56026718",
   "metadata": {},
   "source": [
    "### 1.1 Overview"
   ]
  },
  {
   "cell_type": "markdown",
   "id": "9178cfbd",
   "metadata": {},
   "source": [
    "### Lambda functions (also called anonymous functions) are one line functions that have no name and only have one expression as their body.\n",
    "#### In Python they are defined using the lambda keyword:\n",
    "\n"
   ]
  },
  {
   "cell_type": "markdown",
   "id": "052d344e",
   "metadata": {},
   "source": [
    "`lambda num : num * 2`"
   ]
  },
  {
   "cell_type": "markdown",
   "id": "8d6b4f3f",
   "metadata": {},
   "source": [
    "In the example above, the expression is composed of:\n",
    "\n",
    "* The keyword: lambda\n",
    "* A variable: num\n",
    "* A body: num * 2"
   ]
  },
  {
   "cell_type": "markdown",
   "id": "bb7f9a46",
   "metadata": {},
   "source": [
    "Because a lambda function is an expression, it can be named. Therefore you could write the previous code as follows:"
   ]
  },
  {
   "cell_type": "code",
   "execution_count": 1,
   "id": "89ece22c",
   "metadata": {},
   "outputs": [
    {
     "data": {
      "text/plain": [
       "3"
      ]
     },
     "execution_count": 1,
     "metadata": {},
     "output_type": "execute_result"
    }
   ],
   "source": [
    "add_one = lambda x: x + 1\n",
    "add_one(2)\n",
    "3"
   ]
  },
  {
   "cell_type": "markdown",
   "id": "1c301e01",
   "metadata": {},
   "source": [
    "The above lambda function is equivalent to writing this:"
   ]
  },
  {
   "cell_type": "code",
   "execution_count": 2,
   "id": "fa47e1a4",
   "metadata": {},
   "outputs": [],
   "source": [
    "def add_one(x):\n",
    "    \n",
    "    return x + 1"
   ]
  },
  {
   "cell_type": "markdown",
   "id": "21982dbf",
   "metadata": {},
   "source": [
    "Lambda functions can accept more arguments:"
   ]
  },
  {
   "cell_type": "markdown",
   "id": "4b001a54",
   "metadata": {},
   "source": [
    "`lambda a, b : a * b`"
   ]
  },
  {
   "cell_type": "code",
   "execution_count": 3,
   "id": "4d799778",
   "metadata": {},
   "outputs": [
    {
     "name": "stdout",
     "output_type": "stream",
     "text": [
      "24\n"
     ]
    }
   ],
   "source": [
    "# and invoking the function:\n",
    "multiply = lambda a, b : a * b\n",
    "\n",
    "print(multiply(12, 2)) "
   ]
  },
  {
   "cell_type": "markdown",
   "id": "09601ad0",
   "metadata": {},
   "source": [
    "### 1.2 Map function"
   ]
  },
  {
   "cell_type": "markdown",
   "id": "c9d57776",
   "metadata": {},
   "source": [
    "Python’s map() is a built-in function that allows you to process and transform all the items in an iterable without using an explicit for loop, a technique commonly known as mapping. \n",
    "map() is useful when you need to apply a transformation function to each item in an iterable and transform them into a new iterable."
   ]
  },
  {
   "cell_type": "code",
   "execution_count": 4,
   "id": "8923c622",
   "metadata": {},
   "outputs": [],
   "source": [
    "# Example using a function to square a number\n",
    "def square(number):\n",
    "    return number ** 2\n",
    "\n",
    "numbers = [1, 2, 3, 4, 5]"
   ]
  },
  {
   "cell_type": "code",
   "execution_count": 5,
   "id": "242f8021",
   "metadata": {},
   "outputs": [
    {
     "data": {
      "text/plain": [
       "[1, 4, 9, 16, 25]"
      ]
     },
     "execution_count": 5,
     "metadata": {},
     "output_type": "execute_result"
    }
   ],
   "source": [
    "squared = map(square, numbers)\n",
    "\n",
    "list(squared)\n",
    "[1, 4, 9, 16, 25]"
   ]
  },
  {
   "cell_type": "code",
   "execution_count": 6,
   "id": "a59f2974",
   "metadata": {},
   "outputs": [
    {
     "name": "stdout",
     "output_type": "stream",
     "text": [
      "[1, 4, 9, 16, 25]\n"
     ]
    }
   ],
   "source": [
    "# same as the for loop:\n",
    "list_sq = []\n",
    "for num in numbers:\n",
    "    list_sq.append(square(num))\n",
    "    \n",
    "print(list_sq)"
   ]
  },
  {
   "cell_type": "code",
   "execution_count": 7,
   "id": "f496eb8c",
   "metadata": {},
   "outputs": [
    {
     "data": {
      "text/plain": [
       "[1, 4, 9, 16, 25]"
      ]
     },
     "execution_count": 7,
     "metadata": {},
     "output_type": "execute_result"
    }
   ],
   "source": [
    "## same as the list comprehension:\n",
    "[square(num) for num in numbers]"
   ]
  },
  {
   "cell_type": "code",
   "execution_count": 8,
   "id": "c3f904d3",
   "metadata": {},
   "outputs": [],
   "source": [
    "# Example for converting str to int:\n",
    "str_nums = [\"4\", \"8\", \"6\", \"5\", \"3\", \"2\", \"8\", \"9\", \"2\", \"5\"]"
   ]
  },
  {
   "cell_type": "code",
   "execution_count": 9,
   "id": "a58a1e3c",
   "metadata": {},
   "outputs": [],
   "source": [
    "int_nums = map(int, str_nums)"
   ]
  },
  {
   "cell_type": "code",
   "execution_count": 10,
   "id": "c46d45a7",
   "metadata": {},
   "outputs": [
    {
     "data": {
      "text/plain": [
       "<map at 0x7fe4b034ea90>"
      ]
     },
     "execution_count": 10,
     "metadata": {},
     "output_type": "execute_result"
    }
   ],
   "source": [
    "int_nums"
   ]
  },
  {
   "cell_type": "code",
   "execution_count": 11,
   "id": "72ed176c",
   "metadata": {},
   "outputs": [
    {
     "data": {
      "text/plain": [
       "[4, 8, 6, 5, 3, 2, 8, 9, 2, 5]"
      ]
     },
     "execution_count": 11,
     "metadata": {},
     "output_type": "execute_result"
    }
   ],
   "source": [
    "list(int_nums)"
   ]
  },
  {
   "cell_type": "code",
   "execution_count": 12,
   "id": "c7ca5e24",
   "metadata": {},
   "outputs": [],
   "source": [
    "# you can also use different kinds of functions\n",
    "numbers = [-2, -1, 0, 1, 2]"
   ]
  },
  {
   "cell_type": "code",
   "execution_count": 13,
   "id": "0f888caf",
   "metadata": {},
   "outputs": [],
   "source": [
    "abs_values = list(map(abs, numbers))"
   ]
  },
  {
   "cell_type": "code",
   "execution_count": 14,
   "id": "bd8cf0af",
   "metadata": {},
   "outputs": [
    {
     "data": {
      "text/plain": [
       "[2, 1, 0, 1, 2]"
      ]
     },
     "execution_count": 14,
     "metadata": {},
     "output_type": "execute_result"
    }
   ],
   "source": [
    "abs_values"
   ]
  },
  {
   "cell_type": "code",
   "execution_count": 15,
   "id": "33fb48b7",
   "metadata": {},
   "outputs": [
    {
     "data": {
      "text/plain": [
       "[-2.0, -1.0, 0.0, 1.0, 2.0]"
      ]
     },
     "execution_count": 15,
     "metadata": {},
     "output_type": "execute_result"
    }
   ],
   "source": [
    "list(map(float, numbers))"
   ]
  },
  {
   "cell_type": "code",
   "execution_count": 16,
   "id": "b579f6e4",
   "metadata": {},
   "outputs": [],
   "source": [
    "words = [\"Perro\", \"Gato\", \"Hamster\"]"
   ]
  },
  {
   "cell_type": "code",
   "execution_count": 17,
   "id": "f5bddea3",
   "metadata": {},
   "outputs": [
    {
     "data": {
      "text/plain": [
       "[5, 4, 7]"
      ]
     },
     "execution_count": 17,
     "metadata": {},
     "output_type": "execute_result"
    }
   ],
   "source": [
    "list(map(len, words))"
   ]
  },
  {
   "cell_type": "code",
   "execution_count": 18,
   "id": "90b21cf1",
   "metadata": {},
   "outputs": [],
   "source": [
    "# Processing Multiple Input Iterables With map()"
   ]
  },
  {
   "cell_type": "code",
   "execution_count": 19,
   "id": "113f6737",
   "metadata": {},
   "outputs": [],
   "source": [
    "first_it = [1, 2, 3]"
   ]
  },
  {
   "cell_type": "code",
   "execution_count": 20,
   "id": "a4040054",
   "metadata": {},
   "outputs": [],
   "source": [
    "second_it = [2, 3, 4, 5]"
   ]
  },
  {
   "cell_type": "code",
   "execution_count": 21,
   "id": "34a18de5",
   "metadata": {},
   "outputs": [
    {
     "data": {
      "text/plain": [
       "[1, 8, 81]"
      ]
     },
     "execution_count": 21,
     "metadata": {},
     "output_type": "execute_result"
    }
   ],
   "source": [
    "list(map(pow, first_it, second_it))"
   ]
  },
  {
   "cell_type": "markdown",
   "id": "43e5112b",
   "metadata": {},
   "source": [
    "The final iterable is only as long as the shortest iterable, which is first_it in this case."
   ]
  },
  {
   "cell_type": "markdown",
   "id": "9736d2db",
   "metadata": {},
   "source": [
    "## 2. Reading Files"
   ]
  },
  {
   "cell_type": "markdown",
   "id": "ed3a9678",
   "metadata": {},
   "source": [
    "You can read a file with the open() built-in function. This function uses the path of the file as the argument and returns a file object:"
   ]
  },
  {
   "cell_type": "code",
   "execution_count": 22,
   "id": "2f821ff8",
   "metadata": {},
   "outputs": [],
   "source": [
    "file = open('read_file.txt')"
   ]
  },
  {
   "cell_type": "code",
   "execution_count": 23,
   "id": "85573b50",
   "metadata": {},
   "outputs": [
    {
     "data": {
      "text/plain": [
       "<_io.TextIOWrapper name='read_file.txt' mode='r' encoding='UTF-8'>"
      ]
     },
     "execution_count": 23,
     "metadata": {},
     "output_type": "execute_result"
    }
   ],
   "source": [
    "file"
   ]
  },
  {
   "cell_type": "code",
   "execution_count": 24,
   "id": "15e11457",
   "metadata": {},
   "outputs": [
    {
     "data": {
      "text/plain": [
       "False"
      ]
     },
     "execution_count": 24,
     "metadata": {},
     "output_type": "execute_result"
    }
   ],
   "source": [
    "file.closed"
   ]
  },
  {
   "cell_type": "markdown",
   "id": "55eb6038",
   "metadata": {},
   "source": [
    "Then you should close the file"
   ]
  },
  {
   "cell_type": "code",
   "execution_count": 25,
   "id": "28a31e28",
   "metadata": {},
   "outputs": [],
   "source": [
    "file.close()"
   ]
  },
  {
   "cell_type": "code",
   "execution_count": 26,
   "id": "024df71e",
   "metadata": {},
   "outputs": [
    {
     "data": {
      "text/plain": [
       "True"
      ]
     },
     "execution_count": 26,
     "metadata": {},
     "output_type": "execute_result"
    }
   ],
   "source": [
    "file.closed"
   ]
  },
  {
   "cell_type": "markdown",
   "id": "7db548ee",
   "metadata": {},
   "source": [
    "Another way to open a file is using a context manager:"
   ]
  },
  {
   "cell_type": "code",
   "execution_count": 27,
   "id": "b7c727ab",
   "metadata": {},
   "outputs": [],
   "source": [
    "# This automatically closes the file\n",
    "with open('read_file.txt') as reader:\n",
    "    # Further file processing goes here\n",
    "    pass"
   ]
  },
  {
   "cell_type": "code",
   "execution_count": 28,
   "id": "0f004dc5",
   "metadata": {},
   "outputs": [
    {
     "data": {
      "text/plain": [
       "True"
      ]
     },
     "execution_count": 28,
     "metadata": {},
     "output_type": "execute_result"
    }
   ],
   "source": [
    "file.closed"
   ]
  },
  {
   "cell_type": "markdown",
   "id": "c0d47081",
   "metadata": {},
   "source": [
    "There is a second argument in the open function that specifes the mode (Reading, writing, binary, etc)\n"
   ]
  },
  {
   "cell_type": "markdown",
   "id": "56ca6cdd",
   "metadata": {},
   "source": [
    "* `r` Open for reading (default)\n",
    "* `w` Open for writing, truncating (overwriting) the file first\n",
    "* `rb` or `wb` Open in binary mode (read/write using byte data)"
   ]
  },
  {
   "cell_type": "markdown",
   "id": "8d8866d1",
   "metadata": {},
   "source": [
    "`file = open('read_file.txt')` same as `file = open('read_file.txt', 'r')`"
   ]
  },
  {
   "cell_type": "markdown",
   "id": "973a35a1",
   "metadata": {},
   "source": [
    "You can read about all the modes in the docs https://docs.python.org/3/library/functions.html#open"
   ]
  },
  {
   "cell_type": "markdown",
   "id": "e3be15ea",
   "metadata": {},
   "source": [
    "There are multiple methods that can be called on a file object to help you out:"
   ]
  },
  {
   "cell_type": "markdown",
   "id": "12d752d0",
   "metadata": {},
   "source": [
    "|Method | What it does | \n",
    "|:-------:|:--------------:|\n",
    "|.read(size=-1) | This reads from the file based on the number of size bytes. If no argument is passed or None or -1 is passed, then the entire file is read. |\n",
    "|.readline(size=-1) | This reads at most size number of characters from the line. This continues to the end of the line and then wraps back around. If no argument is passed or None or -1 is passed, then the entire line (or rest of the line) is read. |\n",
    "| .readlines() | This reads the remaining lines from the file object and returns them as a list. |"
   ]
  },
  {
   "cell_type": "markdown",
   "id": "515cdbdf",
   "metadata": {},
   "source": [
    "Example of how to open and read the entire file using .read():"
   ]
  },
  {
   "cell_type": "code",
   "execution_count": 29,
   "id": "fd3fc8ae",
   "metadata": {},
   "outputs": [
    {
     "name": "stdout",
     "output_type": "stream",
     "text": [
      "Markdown is a great tool for documentation on Github\n",
      "because documentation is only as useful as it is readable.\n",
      "Among other things, Github's flavor of markdown allows for the creation\n",
      "of tables to display data in rows and columns.\n",
      "\n"
     ]
    }
   ],
   "source": [
    "with open('read_file.txt', 'r') as reader:\n",
    "    # Read & print the entire file\n",
    "    print(reader.read())"
   ]
  },
  {
   "cell_type": "markdown",
   "id": "f3795f8f",
   "metadata": {},
   "source": [
    "Example of how to read 5 bytes of a line each time using the Python .readline() method:"
   ]
  },
  {
   "cell_type": "code",
   "execution_count": 30,
   "id": "4b934e91",
   "metadata": {},
   "outputs": [
    {
     "name": "stdout",
     "output_type": "stream",
     "text": [
      "Markdown\n",
      " is a gr\n",
      "eat tool\n",
      " for doc\n",
      "umentati\n"
     ]
    }
   ],
   "source": [
    "with open('read_file.txt', 'r') as reader:\n",
    "    # Read & print the first 8 characters of the line 5 times\n",
    "    print(reader.readline(8))\n",
    "    print(reader.readline(8))\n",
    "    print(reader.readline(8))\n",
    "    print(reader.readline(8))\n",
    "    print(reader.readline(8))"
   ]
  },
  {
   "cell_type": "markdown",
   "id": "df903510",
   "metadata": {},
   "source": [
    "Example of how to read the entire file as a list using the Python .readlines() method:"
   ]
  },
  {
   "cell_type": "code",
   "execution_count": 31,
   "id": "776be777",
   "metadata": {},
   "outputs": [],
   "source": [
    "f = open('read_file.txt')"
   ]
  },
  {
   "cell_type": "code",
   "execution_count": 32,
   "id": "18414945",
   "metadata": {},
   "outputs": [
    {
     "data": {
      "text/plain": [
       "['Markdown is a great tool for documentation on Github\\n',\n",
       " 'because documentation is only as useful as it is readable.\\n',\n",
       " \"Among other things, Github's flavor of markdown allows for the creation\\n\",\n",
       " 'of tables to display data in rows and columns.\\n']"
      ]
     },
     "execution_count": 32,
     "metadata": {},
     "output_type": "execute_result"
    }
   ],
   "source": [
    "f.readlines()  # Returns a list object"
   ]
  },
  {
   "cell_type": "code",
   "execution_count": 33,
   "id": "a7da1b38",
   "metadata": {},
   "outputs": [],
   "source": [
    "# Notice the symbol '\\n' that means end of line"
   ]
  },
  {
   "cell_type": "markdown",
   "id": "bfc13d19",
   "metadata": {},
   "source": [
    "A way you could iterate over each line in the file is to use the Python .readlines() method of the file object. .readlines() returns a list where each element in the list represents a line in the file:"
   ]
  },
  {
   "cell_type": "code",
   "execution_count": 34,
   "id": "3bb728b1",
   "metadata": {},
   "outputs": [
    {
     "name": "stdout",
     "output_type": "stream",
     "text": [
      "Markdown is a great tool for documentation on Github\n",
      "\n",
      "because documentation is only as useful as it is readable.\n",
      "\n",
      "Among other things, Github's flavor of markdown allows for the creation\n",
      "\n",
      "of tables to display data in rows and columns.\n",
      "\n"
     ]
    }
   ],
   "source": [
    "with open('read_file.txt', 'r') as reader:\n",
    "    for line in reader.readlines():\n",
    "        print(line)"
   ]
  },
  {
   "cell_type": "markdown",
   "id": "bbed4e29",
   "metadata": {},
   "source": [
    "## 3. NumPy "
   ]
  },
  {
   "cell_type": "markdown",
   "id": "6516a487",
   "metadata": {},
   "source": [
    "First we need to import the numpy library:"
   ]
  },
  {
   "cell_type": "code",
   "execution_count": 35,
   "id": "ea4fca11",
   "metadata": {},
   "outputs": [],
   "source": [
    "import numpy as np"
   ]
  },
  {
   "cell_type": "markdown",
   "id": "fdf3b50c",
   "metadata": {},
   "source": [
    "### 3.1 Arrays"
   ]
  },
  {
   "cell_type": "markdown",
   "id": "6a24ebf5",
   "metadata": {},
   "source": [
    "* A numpy array is a grid of values, all of the same type, and is indexed by a tuple of nonnegative integers.\n",
    "\n",
    "* The number of dimensions is the rank of the array; the shape of an array is a tuple of integers giving the size of the array along each dimension.\n",
    "\n",
    "* We can initialize numpy arrays from nested Python lists, and access elements using square brackets:\n"
   ]
  },
  {
   "cell_type": "code",
   "execution_count": 36,
   "id": "75b04710",
   "metadata": {},
   "outputs": [
    {
     "name": "stdout",
     "output_type": "stream",
     "text": [
      "<class 'numpy.ndarray'> (3,) 1 2 3\n",
      "[5 2 3]\n"
     ]
    }
   ],
   "source": [
    "a = np.array([1, 2, 3])  # Create a rank 1 array\n",
    "print(type(a), a.shape, a[0], a[1], a[2])\n",
    "a[0] = 5                 # Change an element of the array\n",
    "print(a)          "
   ]
  },
  {
   "cell_type": "code",
   "execution_count": 37,
   "id": "0c76bcec",
   "metadata": {},
   "outputs": [
    {
     "name": "stdout",
     "output_type": "stream",
     "text": [
      "[[1 2 3]\n",
      " [4 5 6]]\n"
     ]
    }
   ],
   "source": [
    "b = np.array([[1,2,3],[4,5,6]])   # Create a rank 2 array\n",
    "print(b)"
   ]
  },
  {
   "cell_type": "code",
   "execution_count": 38,
   "id": "dba46927",
   "metadata": {},
   "outputs": [
    {
     "name": "stdout",
     "output_type": "stream",
     "text": [
      "(2, 3)\n",
      "1 2 4\n"
     ]
    }
   ],
   "source": [
    "print(b.shape)\n",
    "print(b[0, 0], b[0, 1], b[1, 0])"
   ]
  },
  {
   "cell_type": "code",
   "execution_count": 39,
   "id": "7022016a",
   "metadata": {},
   "outputs": [
    {
     "name": "stdout",
     "output_type": "stream",
     "text": [
      "[[0. 0.]\n",
      " [0. 0.]]\n",
      "[[1. 1.]]\n",
      "[[7 7]\n",
      " [7 7]]\n",
      "[[1. 0.]\n",
      " [0. 1.]]\n",
      "[[0.24589828 0.86666093]\n",
      " [0.42364196 0.40822064]]\n"
     ]
    }
   ],
   "source": [
    "#Numpy also provides many functions to create arrays:\n",
    "\n",
    "a = np.zeros((2,2))  # Create an array of all zeros\n",
    "print(a)\n",
    "\n",
    "b = np.ones((1,2))   # Create an array of all ones\n",
    "print(b)\n",
    "\n",
    "c = np.full((2,2), 7) # Create a constant array\n",
    "print(c)\n",
    "\n",
    "d = np.eye(2)        # Create a 2x2 identity matrix\n",
    "print(d)\n",
    "\n",
    "e = np.random.random((2,2)) # Create an array filled with random values\n",
    "print(e)"
   ]
  },
  {
   "cell_type": "markdown",
   "id": "fbf88128",
   "metadata": {},
   "source": [
    "### 3.2 Array indexing"
   ]
  },
  {
   "cell_type": "markdown",
   "id": "77725acc",
   "metadata": {},
   "source": [
    "Since arrays may be multidimensional, you must specify a slice for each dimension of the array:\n"
   ]
  },
  {
   "cell_type": "code",
   "execution_count": 40,
   "id": "d0905d9d",
   "metadata": {},
   "outputs": [],
   "source": [
    "# Create the following rank 2 array with shape (3, 4)\n",
    "# [[ 1  2  3  4]\n",
    "#  [ 5  6  7  8]\n",
    "#  [ 9 10 11 12]]\n",
    "a = np.array([[1,2,3,4], [5,6,7,8], [9,10,11,12]])"
   ]
  },
  {
   "cell_type": "code",
   "execution_count": 41,
   "id": "1eaf7215",
   "metadata": {},
   "outputs": [
    {
     "name": "stdout",
     "output_type": "stream",
     "text": [
      "[[2 3]\n",
      " [6 7]]\n"
     ]
    }
   ],
   "source": [
    "# Use slicing to pull out the subarray consisting of the first 2 rows\n",
    "# and columns 1 and 2; b is the following array of shape (2, 2):\n",
    "# [[2 3]\n",
    "#  [6 7]]\n",
    "b = a[:2, 1:3]\n",
    "print(b)"
   ]
  },
  {
   "cell_type": "markdown",
   "id": "2990236f",
   "metadata": {},
   "source": [
    "A slice of an array is a view into the same data, so modifying it will modify the original array."
   ]
  },
  {
   "cell_type": "code",
   "execution_count": 42,
   "id": "f457d5a2",
   "metadata": {},
   "outputs": [
    {
     "name": "stdout",
     "output_type": "stream",
     "text": [
      "2\n",
      "77\n"
     ]
    }
   ],
   "source": [
    "print(a[0, 1])\n",
    "b[0, 0] = 77    # b[0, 0] is the same piece of data as a[0, 1]\n",
    "print(a[0, 1])"
   ]
  },
  {
   "cell_type": "markdown",
   "id": "3c259079",
   "metadata": {},
   "source": [
    "You can also mix integer indexing with slice indexing. However, doing so will yield an array of lower rank than the original array:"
   ]
  },
  {
   "cell_type": "code",
   "execution_count": 43,
   "id": "bf4d1611",
   "metadata": {},
   "outputs": [
    {
     "name": "stdout",
     "output_type": "stream",
     "text": [
      "[[ 1  2  3  4]\n",
      " [ 5  6  7  8]\n",
      " [ 9 10 11 12]]\n"
     ]
    }
   ],
   "source": [
    "# Create the following rank 2 array with shape (3, 4)\n",
    "a = np.array([[1,2,3,4], [5,6,7,8], [9,10,11,12]])\n",
    "print(a)"
   ]
  },
  {
   "cell_type": "code",
   "execution_count": 44,
   "id": "8bbf21cb",
   "metadata": {},
   "outputs": [
    {
     "name": "stdout",
     "output_type": "stream",
     "text": [
      "[5 6 7 8] (4,)\n"
     ]
    }
   ],
   "source": [
    "row_r1 = a[1, :]    # Rank 1 view of the second row of a  \n",
    "print(row_r1, row_r1.shape)"
   ]
  },
  {
   "cell_type": "code",
   "execution_count": 45,
   "id": "a86bf6c9",
   "metadata": {},
   "outputs": [
    {
     "name": "stdout",
     "output_type": "stream",
     "text": [
      "[[5 6 7 8]] (1, 4)\n",
      "[[5 6 7 8]] (1, 4)\n"
     ]
    }
   ],
   "source": [
    "#Using only slices yields an array of the same rank as the\n",
    "#original array:\n",
    "row_r2 = a[1:2, :]  # Rank 2 view of the second row of a\n",
    "row_r3 = a[[1], :]  # Rank 2 view of the second row of a\n",
    "print(row_r2, row_r2.shape)\n",
    "print(row_r3, row_r3.shape)"
   ]
  },
  {
   "cell_type": "code",
   "execution_count": 46,
   "id": "50c117b0",
   "metadata": {},
   "outputs": [
    {
     "name": "stdout",
     "output_type": "stream",
     "text": [
      "[ 2  6 10] (3,)\n",
      "\n",
      "[[ 2]\n",
      " [ 6]\n",
      " [10]] (3, 1)\n"
     ]
    }
   ],
   "source": [
    "# We can make the same distinction when accessing columns of an array:\n",
    "col_r1 = a[:, 1]\n",
    "col_r2 = a[:, 1:2]\n",
    "print(col_r1, col_r1.shape)\n",
    "print()\n",
    "print(col_r2, col_r2.shape)"
   ]
  },
  {
   "cell_type": "markdown",
   "id": "7c33a091",
   "metadata": {},
   "source": [
    "Integer array indexing allows you to construct arbitrary arrays using the data from another array. For example:"
   ]
  },
  {
   "cell_type": "code",
   "execution_count": 47,
   "id": "0f2d1807",
   "metadata": {},
   "outputs": [
    {
     "name": "stdout",
     "output_type": "stream",
     "text": [
      "[[1 2]\n",
      " [3 4]\n",
      " [5 6]]\n"
     ]
    }
   ],
   "source": [
    "a = np.array([[1,2], [3, 4], [5, 6]])\n",
    "print(a)"
   ]
  },
  {
   "cell_type": "code",
   "execution_count": 48,
   "id": "f65749c5",
   "metadata": {},
   "outputs": [
    {
     "name": "stdout",
     "output_type": "stream",
     "text": [
      "[1 4 5]\n"
     ]
    }
   ],
   "source": [
    "# Example of integer array indexing.\n",
    "print(a[[0, 1, 2], [0, 1, 0]])"
   ]
  },
  {
   "cell_type": "code",
   "execution_count": 49,
   "id": "7fd9138d",
   "metadata": {},
   "outputs": [
    {
     "name": "stdout",
     "output_type": "stream",
     "text": [
      "[1 4 5]\n"
     ]
    }
   ],
   "source": [
    "# The above example of integer array indexing is equivalent to this:\n",
    "print(np.array([a[0, 0], a[1, 1], a[2, 0]]))"
   ]
  },
  {
   "cell_type": "code",
   "execution_count": 50,
   "id": "48f8647d",
   "metadata": {},
   "outputs": [
    {
     "name": "stdout",
     "output_type": "stream",
     "text": [
      "[2 2]\n"
     ]
    }
   ],
   "source": [
    "# Repeating an the element corresponding to a[0,1]:\n",
    "print(a[[0, 0], [1, 1]])\n"
   ]
  },
  {
   "cell_type": "markdown",
   "id": "4ff28463",
   "metadata": {},
   "source": [
    "It is also possible to mutate elements of an array:"
   ]
  },
  {
   "cell_type": "code",
   "execution_count": 51,
   "id": "3f1b3854",
   "metadata": {},
   "outputs": [
    {
     "name": "stdout",
     "output_type": "stream",
     "text": [
      "[[ 1  2  3]\n",
      " [ 4  5  6]\n",
      " [ 7  8  9]\n",
      " [10 11 12]]\n"
     ]
    }
   ],
   "source": [
    "a = np.array([[1,2,3], [4,5,6], [7,8,9], [10, 11, 12]])\n",
    "print(a)"
   ]
  },
  {
   "cell_type": "code",
   "execution_count": 52,
   "id": "40354888",
   "metadata": {},
   "outputs": [],
   "source": [
    "a[2,2] += 10"
   ]
  },
  {
   "cell_type": "code",
   "execution_count": 53,
   "id": "10cc3512",
   "metadata": {},
   "outputs": [
    {
     "data": {
      "text/plain": [
       "array([[ 1,  2,  3],\n",
       "       [ 4,  5,  6],\n",
       "       [ 7,  8, 19],\n",
       "       [10, 11, 12]])"
      ]
     },
     "execution_count": 53,
     "metadata": {},
     "output_type": "execute_result"
    }
   ],
   "source": [
    "a"
   ]
  },
  {
   "cell_type": "markdown",
   "id": "fbb5ecc5",
   "metadata": {},
   "source": [
    "Boolean array indexing: Boolean array indexing lets you pick out arbitrary elements of an array. Frequently this type of indexing is used to select the elements of an array that satisfy some condition. Here is an example:\n"
   ]
  },
  {
   "cell_type": "code",
   "execution_count": 54,
   "id": "16362ca6",
   "metadata": {},
   "outputs": [
    {
     "name": "stdout",
     "output_type": "stream",
     "text": [
      "[[1 2]\n",
      " [3 4]\n",
      " [5 6]]\n"
     ]
    }
   ],
   "source": [
    "\n",
    "a = np.array([[1,2], [3, 4], [5, 6]])\n",
    "print(a)"
   ]
  },
  {
   "cell_type": "code",
   "execution_count": 55,
   "id": "dca460a5",
   "metadata": {},
   "outputs": [],
   "source": [
    "bool_idx = (a > 2)  # Find the elements of a that are bigger than 2;\n",
    "                    # this returns a numpy array of Booleans of the same\n",
    "                    # shape as a, where each slot of bool_idx tells\n",
    "                    # whether that element of a is > 2.\n"
   ]
  },
  {
   "cell_type": "code",
   "execution_count": 56,
   "id": "f230c173",
   "metadata": {},
   "outputs": [
    {
     "name": "stdout",
     "output_type": "stream",
     "text": [
      "[[False False]\n",
      " [ True  True]\n",
      " [ True  True]]\n"
     ]
    }
   ],
   "source": [
    "print(bool_idx)\n"
   ]
  },
  {
   "cell_type": "code",
   "execution_count": 57,
   "id": "43a98594",
   "metadata": {},
   "outputs": [
    {
     "name": "stdout",
     "output_type": "stream",
     "text": [
      "[3 4 5 6]\n"
     ]
    }
   ],
   "source": [
    "# We use boolean array indexing to construct a rank 1 array\n",
    "# consisting of the elements of a corresponding to the True values\n",
    "# of bool_idx\n",
    "print(a[bool_idx])"
   ]
  },
  {
   "cell_type": "code",
   "execution_count": 58,
   "id": "b08b3463",
   "metadata": {},
   "outputs": [
    {
     "name": "stdout",
     "output_type": "stream",
     "text": [
      "[3 4 5 6]\n"
     ]
    }
   ],
   "source": [
    "# We can do all of the above in a single concise statement:\n",
    "print(a[a > 2])\n"
   ]
  },
  {
   "cell_type": "markdown",
   "id": "2703856a",
   "metadata": {},
   "source": [
    "### 3.3 Data types"
   ]
  },
  {
   "cell_type": "markdown",
   "id": "4f6b1cee",
   "metadata": {},
   "source": [
    "Every numpy array is a grid of elements of the same type. Numpy provides a large set of numeric datatypes that you can use to construct arrays. Numpy tries to guess a datatype when you create an array, but functions that construct arrays usually also include an optional argument to explicitly specify the datatype. Here is an example:\n"
   ]
  },
  {
   "cell_type": "code",
   "execution_count": 59,
   "id": "58fc2694",
   "metadata": {},
   "outputs": [
    {
     "name": "stdout",
     "output_type": "stream",
     "text": [
      "int64 float64 int64\n"
     ]
    }
   ],
   "source": [
    "x = np.array([1, 2])  # Let numpy choose the datatype\n",
    "y = np.array([1.0, 2.0])  # Let numpy choose the datatype\n",
    "z = np.array([1, 2], dtype=np.int64)  # Force a particular datatype\n",
    "\n",
    "print(x.dtype, y.dtype, z.dtype)"
   ]
  },
  {
   "cell_type": "markdown",
   "id": "aa1225f2",
   "metadata": {},
   "source": [
    "### 3.4 Array math"
   ]
  },
  {
   "cell_type": "markdown",
   "id": "8b674780",
   "metadata": {},
   "source": [
    "Basic mathematical functions operate elementwise on arrays, and are available both as operator overloads and as functions in the numpy module:\n"
   ]
  },
  {
   "cell_type": "code",
   "execution_count": 60,
   "id": "1745b06f",
   "metadata": {},
   "outputs": [],
   "source": [
    "x = np.array([[1,2],[3,4]], dtype=np.float64)\n",
    "y = np.array([[5,6],[7,8]], dtype=np.float64)"
   ]
  },
  {
   "cell_type": "code",
   "execution_count": 61,
   "id": "4330a2e3",
   "metadata": {},
   "outputs": [
    {
     "name": "stdout",
     "output_type": "stream",
     "text": [
      "[[ 6.  8.]\n",
      " [10. 12.]]\n",
      "[[ 6.  8.]\n",
      " [10. 12.]]\n"
     ]
    }
   ],
   "source": [
    "# Elementwise sum; both produce the array\n",
    "print(x + y)\n",
    "print(np.add(x, y))\n"
   ]
  },
  {
   "cell_type": "code",
   "execution_count": 62,
   "id": "2256e2fb",
   "metadata": {},
   "outputs": [
    {
     "name": "stdout",
     "output_type": "stream",
     "text": [
      "[[-4. -4.]\n",
      " [-4. -4.]]\n",
      "[[-4. -4.]\n",
      " [-4. -4.]]\n"
     ]
    }
   ],
   "source": [
    "# Elementwise difference; both produce the array\n",
    "print(x - y)\n",
    "print(np.subtract(x, y))"
   ]
  },
  {
   "cell_type": "code",
   "execution_count": 63,
   "id": "76365e05",
   "metadata": {},
   "outputs": [
    {
     "name": "stdout",
     "output_type": "stream",
     "text": [
      "[[ 5. 12.]\n",
      " [21. 32.]]\n",
      "[[ 5. 12.]\n",
      " [21. 32.]]\n"
     ]
    }
   ],
   "source": [
    "# Elementwise product; both produce the array\n",
    "print(x * y)\n",
    "print(np.multiply(x, y))"
   ]
  },
  {
   "cell_type": "code",
   "execution_count": 64,
   "id": "6cb90a83",
   "metadata": {},
   "outputs": [
    {
     "name": "stdout",
     "output_type": "stream",
     "text": [
      "[[0.2        0.33333333]\n",
      " [0.42857143 0.5       ]]\n",
      "[[0.2        0.33333333]\n",
      " [0.42857143 0.5       ]]\n"
     ]
    }
   ],
   "source": [
    "# Elementwise division; both produce the array\n",
    "# [[ 0.2         0.33333333]\n",
    "#  [ 0.42857143  0.5       ]]\n",
    "print(x / y)\n",
    "print(np.divide(x, y))"
   ]
  },
  {
   "cell_type": "code",
   "execution_count": 65,
   "id": "c7abb48d",
   "metadata": {},
   "outputs": [
    {
     "name": "stdout",
     "output_type": "stream",
     "text": [
      "[[1.         1.41421356]\n",
      " [1.73205081 2.        ]]\n"
     ]
    }
   ],
   "source": [
    "# Elementwise square root; produces the array\n",
    "# [[ 1.          1.41421356]\n",
    "#  [ 1.73205081  2.        ]]\n",
    "print(np.sqrt(x))"
   ]
  },
  {
   "cell_type": "markdown",
   "id": "5901fc52",
   "metadata": {},
   "source": [
    "Note that, `*` is elementwise multiplication, not matrix multiplication as in other languages like MATLAB. We instead use the dot function to compute inner products of vectors, to multiply a vector by a matrix, and to multiply matrices. dot is available both as a function in the numpy module and as an instance method of array objects:\n"
   ]
  },
  {
   "cell_type": "code",
   "execution_count": 66,
   "id": "c22acd9e",
   "metadata": {},
   "outputs": [],
   "source": [
    "x = np.array([[1,2],[3,4]])\n",
    "y = np.array([[5,6],[7,8]])"
   ]
  },
  {
   "cell_type": "code",
   "execution_count": 67,
   "id": "aab4a6e6",
   "metadata": {},
   "outputs": [],
   "source": [
    "v = np.array([9,10])\n",
    "w = np.array([11, 12])"
   ]
  },
  {
   "cell_type": "code",
   "execution_count": 68,
   "id": "eb53e355",
   "metadata": {},
   "outputs": [
    {
     "name": "stdout",
     "output_type": "stream",
     "text": [
      "219\n",
      "219\n"
     ]
    }
   ],
   "source": [
    "# Inner product of vectors; both produce 219\n",
    "print(v.dot(w))\n",
    "print(np.dot(v, w))"
   ]
  },
  {
   "cell_type": "markdown",
   "id": "e5ea7f1b",
   "metadata": {},
   "source": [
    "You can also use the `@` operator which is equivalent to numpy's `dot` operator."
   ]
  },
  {
   "cell_type": "code",
   "execution_count": 69,
   "id": "bb6713d6",
   "metadata": {},
   "outputs": [
    {
     "name": "stdout",
     "output_type": "stream",
     "text": [
      "219\n"
     ]
    }
   ],
   "source": [
    "print(v @ w)\n"
   ]
  },
  {
   "cell_type": "code",
   "execution_count": 70,
   "id": "56f79a79",
   "metadata": {},
   "outputs": [
    {
     "name": "stdout",
     "output_type": "stream",
     "text": [
      "[29 67]\n",
      "[29 67]\n",
      "[29 67]\n"
     ]
    }
   ],
   "source": [
    "# Matrix / vector product; both produce the rank 1 array [29 67]\n",
    "print(x.dot(v))\n",
    "print(np.dot(x, v))\n",
    "print(x @ v)"
   ]
  },
  {
   "cell_type": "code",
   "execution_count": 71,
   "id": "bccc1e08",
   "metadata": {},
   "outputs": [
    {
     "name": "stdout",
     "output_type": "stream",
     "text": [
      "[[19 22]\n",
      " [43 50]]\n",
      "[[19 22]\n",
      " [43 50]]\n",
      "[[19 22]\n",
      " [43 50]]\n"
     ]
    }
   ],
   "source": [
    "# Matrix / matrix product; both produce the rank 2 array\n",
    "# [[19 22]\n",
    "#  [43 50]]\n",
    "print(x.dot(y))\n",
    "print(np.dot(x, y))\n",
    "print(x @ y)"
   ]
  },
  {
   "cell_type": "markdown",
   "id": "d3e4578e",
   "metadata": {},
   "source": [
    "Numpy provides many useful functions for performing computations on arrays; one of the most useful is `sum`:\n"
   ]
  },
  {
   "cell_type": "code",
   "execution_count": 72,
   "id": "ce5ac4c6",
   "metadata": {},
   "outputs": [],
   "source": [
    "x = np.array([[1,2],[3,4]])"
   ]
  },
  {
   "cell_type": "code",
   "execution_count": 73,
   "id": "8508da17",
   "metadata": {},
   "outputs": [
    {
     "name": "stdout",
     "output_type": "stream",
     "text": [
      "10\n",
      "[4 6]\n",
      "[3 7]\n"
     ]
    }
   ],
   "source": [
    "print(np.sum(x))  # Compute sum of all elements; prints \"10\"\n",
    "print(np.sum(x, axis=0))  # Compute sum of each column; prints \"[4 6]\"\n",
    "print(np.sum(x, axis=1))  # Compute sum of each row; prints \"[3 7]\""
   ]
  },
  {
   "cell_type": "markdown",
   "id": "e6c9eeb5",
   "metadata": {},
   "source": [
    "You can find the full list of mathematical functions provided by numpy in the [documentation](https://numpy.org/doc/stable/reference/routines.math.html).\n"
   ]
  },
  {
   "cell_type": "markdown",
   "id": "6f0eeed0",
   "metadata": {},
   "source": [
    "Apart from computing mathematical functions using arrays, we frequently need to reshape or otherwise manipulate data in arrays. The simplest example of this type of operation is transposing a matrix; to transpose a matrix, simply use the T attribute of an array object:"
   ]
  },
  {
   "cell_type": "code",
   "execution_count": 74,
   "id": "a4494970",
   "metadata": {},
   "outputs": [
    {
     "name": "stdout",
     "output_type": "stream",
     "text": [
      "[[1 2]\n",
      " [3 4]]\n",
      "transpose\n",
      " [[1 3]\n",
      " [2 4]]\n"
     ]
    }
   ],
   "source": [
    "print(x)\n",
    "print(\"transpose\\n\", x.T)"
   ]
  },
  {
   "cell_type": "code",
   "execution_count": 75,
   "id": "7f22c983",
   "metadata": {},
   "outputs": [
    {
     "name": "stdout",
     "output_type": "stream",
     "text": [
      "[[1 2 3]]\n",
      "transpose\n",
      " [[1]\n",
      " [2]\n",
      " [3]]\n"
     ]
    }
   ],
   "source": [
    "v = np.array([[1,2,3]])\n",
    "print(v )\n",
    "print(\"transpose\\n\", v.T)"
   ]
  },
  {
   "cell_type": "markdown",
   "id": "43001f29",
   "metadata": {},
   "source": [
    "## 4. Extra reading"
   ]
  },
  {
   "cell_type": "markdown",
   "id": "9d4ef658",
   "metadata": {},
   "source": [
    "### 4.1 Filter function"
   ]
  },
  {
   "cell_type": "markdown",
   "id": "9ad37f82",
   "metadata": {},
   "source": [
    "#### Suggested reading: https://realpython.com/python-filter-function/"
   ]
  },
  {
   "cell_type": "markdown",
   "id": "17922e67",
   "metadata": {},
   "source": [
    "### 4.2 Numpy Broadcasting"
   ]
  },
  {
   "cell_type": "markdown",
   "id": "e72aa744",
   "metadata": {},
   "source": [
    "#### Suggested reading https://www.geeksforgeeks.org/python-broadcasting-with-numpy-arrays/"
   ]
  },
  {
   "cell_type": "markdown",
   "id": "e51e615d",
   "metadata": {},
   "source": [
    "### 4.3 SQL connection to database"
   ]
  },
  {
   "cell_type": "markdown",
   "id": "96ce3cb3",
   "metadata": {},
   "source": [
    "#### Suggested reading https://www.postgresqltutorial.com/postgresql-python/connect/"
   ]
  },
  {
   "cell_type": "markdown",
   "id": "a71918eb",
   "metadata": {},
   "source": [
    "## 5. References"
   ]
  },
  {
   "cell_type": "markdown",
   "id": "0977d935",
   "metadata": {},
   "source": [
    "* https://realpython.com/python-lambda/\n",
    "* https://realpython.com/python-map-function/\n",
    "* https://realpython.com/read-write-files-python/\n",
    "* https://colab.research.google.com/github/cs231n/cs231n.github.io/blob/master/python-colab.ipynb#scrollTo=kiMDUr58L9hN"
   ]
  },
  {
   "cell_type": "code",
   "execution_count": null,
   "id": "d373cc09",
   "metadata": {},
   "outputs": [],
   "source": []
  }
 ],
 "metadata": {
  "kernelspec": {
   "display_name": "Python 3 (ipykernel)",
   "language": "python",
   "name": "python3"
  },
  "language_info": {
   "codemirror_mode": {
    "name": "ipython",
    "version": 3
   },
   "file_extension": ".py",
   "mimetype": "text/x-python",
   "name": "python",
   "nbconvert_exporter": "python",
   "pygments_lexer": "ipython3",
   "version": "3.9.12"
  }
 },
 "nbformat": 4,
 "nbformat_minor": 5
}
