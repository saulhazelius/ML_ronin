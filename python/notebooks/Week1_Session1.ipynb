{
 "cells": [
  {
   "cell_type": "markdown",
   "id": "c9230875",
   "metadata": {},
   "source": [
    "## Python Introduction:\n",
    "### 1. Data Types\n",
    "### 2. Collections\n",
    "### 3. Conditions\n",
    "### 4. Functions and Classes \n",
    "### 5. Extra reading\n"
   ]
  },
  {
   "cell_type": "markdown",
   "id": "a3a45687",
   "metadata": {},
   "source": [
    "## 1. Data Types"
   ]
  },
  {
   "cell_type": "markdown",
   "id": "350ba75f",
   "metadata": {},
   "source": [
    "### 1.1 Numbers"
   ]
  },
  {
   "cell_type": "markdown",
   "id": "3c2ac142",
   "metadata": {},
   "source": [
    "Integers and floats work similar to other languages:"
   ]
  },
  {
   "cell_type": "code",
   "execution_count": 2,
   "id": "08c5fdda",
   "metadata": {},
   "outputs": [
    {
     "name": "stdout",
     "output_type": "stream",
     "text": [
      "4 <class 'int'>\n"
     ]
    }
   ],
   "source": [
    "x = 4\n",
    "print(x, type(x))"
   ]
  },
  {
   "cell_type": "code",
   "execution_count": 3,
   "id": "81450e69",
   "metadata": {},
   "outputs": [
    {
     "name": "stdout",
     "output_type": "stream",
     "text": [
      "5\n",
      "3\n",
      "8\n",
      "16\n"
     ]
    }
   ],
   "source": [
    "# Basic arithmetic operations:\n",
    "print(x + 1)   # Addition\n",
    "\n",
    "print(x - 1)   # Subtraction\n",
    "\n",
    "print(x * 2)   # Multiplication\n",
    "\n",
    "print(x ** 2)  # Exponentiation"
   ]
  },
  {
   "cell_type": "markdown",
   "id": "2331423a",
   "metadata": {},
   "source": [
    "Operators x += 1, x *=, x/=1 are equivalent to x = x + 1, x = x*2 and so on. Similar to many languages that use x++, x-- operators"
   ]
  },
  {
   "cell_type": "code",
   "execution_count": 10,
   "id": "914cd443",
   "metadata": {},
   "outputs": [
    {
     "name": "stdout",
     "output_type": "stream",
     "text": [
      "5\n",
      "10\n"
     ]
    }
   ],
   "source": [
    "x += 1\n",
    "print(x)\n",
    "\n",
    "x *= 2\n",
    "print(x)"
   ]
  },
  {
   "cell_type": "code",
   "execution_count": 11,
   "id": "6da6c08b",
   "metadata": {},
   "outputs": [
    {
     "name": "stdout",
     "output_type": "stream",
     "text": [
      "<class 'float'>\n",
      "1.5 2.5 3.0 2.25\n"
     ]
    }
   ],
   "source": [
    "y = 1.5\n",
    "print(type(y))"
   ]
  },
  {
   "cell_type": "code",
   "execution_count": null,
   "id": "7d924975",
   "metadata": {},
   "outputs": [],
   "source": [
    "print(y, y + 1, y * 2, y ** 2)"
   ]
  },
  {
   "cell_type": "markdown",
   "id": "131e01cd",
   "metadata": {},
   "source": [
    "Python also has built-in types for long integers and complex numbers, see [documentation](https://docs.python.org/3.7/library/stdtypes.html#numeric-types-int-float-long-complex)."
   ]
  },
  {
   "cell_type": "markdown",
   "id": "93f03739",
   "metadata": {},
   "source": [
    "### 1.2 Booleans"
   ]
  },
  {
   "cell_type": "markdown",
   "id": "ce51d959",
   "metadata": {},
   "source": [
    "Python implements all of the usual operators for Boolean logic, but uses English words (and, or, not, etc) rather than symbols (`&&`, `||`, etc.):"
   ]
  },
  {
   "cell_type": "code",
   "execution_count": null,
   "id": "61c3e2e9",
   "metadata": {},
   "outputs": [],
   "source": [
    "t, f = True, False\n",
    "print(type(t))"
   ]
  },
  {
   "cell_type": "markdown",
   "id": "1d926668",
   "metadata": {},
   "source": [
    "Boolean operations:"
   ]
  },
  {
   "cell_type": "code",
   "execution_count": null,
   "id": "31076028",
   "metadata": {},
   "outputs": [],
   "source": [
    "print(t and f) # Logical AND;\n",
    "\n",
    "print(t or f)  # Logical OR;\n",
    "\n",
    "print(not t)   # Logical NOT;\n",
    "\n",
    "print(t != f)  # Logical XOR;"
   ]
  },
  {
   "cell_type": "markdown",
   "id": "57d8b1ec",
   "metadata": {},
   "source": [
    "### 1.3 Strings"
   ]
  },
  {
   "cell_type": "code",
   "execution_count": null,
   "id": "d08db846",
   "metadata": {},
   "outputs": [],
   "source": [
    "hello = 'hello'   # Strings can use single quotes\n",
    "world = \"world\"   # or double quotes\n",
    "print(hello, len(hello))"
   ]
  },
  {
   "cell_type": "code",
   "execution_count": null,
   "id": "f979b6c8",
   "metadata": {},
   "outputs": [],
   "source": [
    "hw = hello + ' ' + world  # String concatenation\n",
    "print(hw)"
   ]
  },
  {
   "cell_type": "code",
   "execution_count": null,
   "id": "c978514e",
   "metadata": {},
   "outputs": [],
   "source": [
    "hw12 = '{} {} {}'.format(hello, world, 12)  # string formatting\n",
    "print(hw12)"
   ]
  },
  {
   "cell_type": "markdown",
   "id": "439c4294",
   "metadata": {},
   "source": [
    "Some examples of strings methods:"
   ]
  },
  {
   "cell_type": "code",
   "execution_count": 14,
   "id": "609ae92b",
   "metadata": {},
   "outputs": [
    {
     "name": "stdout",
     "output_type": "stream",
     "text": [
      "Hey you!\n",
      "HEY YOU!\n",
      "hey y(oouuu)!\n",
      "hey you\n"
     ]
    }
   ],
   "source": [
    "s = \"hey you!\"\n",
    "print(s.capitalize())  # Capitalize a string\n",
    "\n",
    "print(s.upper())       # Convert a string to uppercase; prints \"HELLO\"\n",
    "\n",
    "print(s.replace('ou', '(oouuu)'))  # Replace all instances of one substring with another\n",
    "\n",
    "print('  hey you '.strip())  # Strip leading and trailing whitespace"
   ]
  },
  {
   "cell_type": "markdown",
   "id": "f70a13b4",
   "metadata": {},
   "source": [
    "You can find a list of all string methods in the [documentation](https://docs.python.org/3.7/library/stdtypes.html#string-methods)."
   ]
  },
  {
   "cell_type": "markdown",
   "id": "a96d6912",
   "metadata": {},
   "source": [
    "## 2. Collections"
   ]
  },
  {
   "cell_type": "markdown",
   "id": "0c38e303",
   "metadata": {},
   "source": [
    "### 2.1 Lists\n"
   ]
  },
  {
   "cell_type": "markdown",
   "id": "c85a2ff2",
   "metadata": {},
   "source": [
    "A list is the Python equivalent of an array, but is resizeable and can contain elements of different types:"
   ]
  },
  {
   "cell_type": "code",
   "execution_count": 15,
   "id": "4dab6456",
   "metadata": {},
   "outputs": [
    {
     "name": "stdout",
     "output_type": "stream",
     "text": [
      "[3, 1, 2] 2\n",
      "2\n"
     ]
    }
   ],
   "source": [
    "xs = [3, 1, 2]   # Create a list\n",
    "print(xs, xs[2])\n",
    "print(xs[-1])     # Negative indices count from the end of the list; prints \"2\""
   ]
  },
  {
   "cell_type": "code",
   "execution_count": 16,
   "id": "7a74b150",
   "metadata": {},
   "outputs": [
    {
     "name": "stdout",
     "output_type": "stream",
     "text": [
      "[3, 1, 'foo']\n"
     ]
    }
   ],
   "source": [
    "xs[2] = 'foo'    # Lists can contain elements of different types\n",
    "print(xs)"
   ]
  },
  {
   "cell_type": "code",
   "execution_count": 17,
   "id": "3af76c92",
   "metadata": {},
   "outputs": [
    {
     "name": "stdout",
     "output_type": "stream",
     "text": [
      "[3, 1, 'foo', 'bar']\n"
     ]
    }
   ],
   "source": [
    "xs.append('bar') # Add a new element to the end of the list\n",
    "print(xs)"
   ]
  },
  {
   "cell_type": "code",
   "execution_count": 18,
   "id": "c9b313ad",
   "metadata": {},
   "outputs": [
    {
     "name": "stdout",
     "output_type": "stream",
     "text": [
      "bar [3, 1, 'foo']\n"
     ]
    }
   ],
   "source": [
    "x = xs.pop()     # Remove and return the last element of the list\n",
    "print(x, xs)"
   ]
  },
  {
   "cell_type": "markdown",
   "id": "50936129",
   "metadata": {},
   "source": [
    "#### 2.1.1 Slicing"
   ]
  },
  {
   "cell_type": "markdown",
   "id": "17d8637f",
   "metadata": {},
   "source": [
    "Python Slicing: syntax to access sublists\n"
   ]
  },
  {
   "cell_type": "code",
   "execution_count": 24,
   "id": "c4ee4aaa",
   "metadata": {},
   "outputs": [],
   "source": [
    "nums = list(range(5))    # range is a built-in function that creates a list of integers"
   ]
  },
  {
   "cell_type": "code",
   "execution_count": 25,
   "id": "26f71727",
   "metadata": {},
   "outputs": [
    {
     "name": "stdout",
     "output_type": "stream",
     "text": [
      "[0, 1, 2, 3, 4]\n",
      "[2, 3]\n",
      "[2, 3, 4]\n",
      "[0, 1]\n",
      "[0, 1, 2, 3, 4]\n",
      "[0, 1, 2, 3]\n"
     ]
    }
   ],
   "source": [
    "print(nums)         # Prints \"[0, 1, 2, 3, 4]\"\n",
    "\n",
    "print(nums[2:4])    # Get a slice from index 2 to 4 (exclusive); prints \"[2, 3]\"\n",
    "\n",
    "print(nums[2:])     # Get a slice from index 2 to the end; prints \"[2, 3, 4]\"\n",
    "\n",
    "print(nums[:2])     # Get a slice from the start to index 2 (exclusive); prints \"[0, 1]\"\n",
    "\n",
    "print(nums[:])      # Get a slice of the whole list; prints [\"0, 1, 2, 3, 4]\"\n",
    "\n",
    "print(nums[:-1])    # Slice indices can be negative; prints [\"0, 1, 2, 3]\"\n"
   ]
  },
  {
   "cell_type": "code",
   "execution_count": null,
   "id": "28f0f4c1",
   "metadata": {},
   "outputs": [],
   "source": [
    "nums[2:4] = [8, 9] # Assign a new sublist to a slice"
   ]
  },
  {
   "cell_type": "code",
   "execution_count": null,
   "id": "8f526a53",
   "metadata": {},
   "outputs": [],
   "source": [
    "print(nums)         # Prints \"[0, 1, 8, 9, 4]\""
   ]
  },
  {
   "cell_type": "markdown",
   "id": "88b1f545",
   "metadata": {},
   "source": [
    "#### 2.1.2 Loops"
   ]
  },
  {
   "cell_type": "code",
   "execution_count": 28,
   "id": "642ebe14",
   "metadata": {},
   "outputs": [
    {
     "name": "stdout",
     "output_type": "stream",
     "text": [
      "cat\n",
      "dog\n",
      "monkey\n"
     ]
    }
   ],
   "source": [
    "# You can loop over the elements of a list like this:\n",
    "animals = ['cat', 'dog', 'monkey']\n",
    "for animal in animals:\n",
    "    print(animal)"
   ]
  },
  {
   "cell_type": "code",
   "execution_count": 30,
   "id": "6070d5f3",
   "metadata": {},
   "outputs": [
    {
     "name": "stdout",
     "output_type": "stream",
     "text": [
      "1: cat\n",
      "2: dog\n",
      "3: monkey\n"
     ]
    }
   ],
   "source": [
    "# If you want access to the index of each element within the body of a loop, use the built-in `enumerate` function:\n",
    "animals = ['cat', 'dog', 'monkey']\n",
    "for idx, animal in enumerate(animals):\n",
    "    print('{}: {}'.format(idx + 1, animal))"
   ]
  },
  {
   "cell_type": "markdown",
   "id": "cbd6a353",
   "metadata": {},
   "source": [
    "#### 2.1.3 List Comprehensions"
   ]
  },
  {
   "cell_type": "code",
   "execution_count": 31,
   "id": "aaad2595",
   "metadata": {},
   "outputs": [
    {
     "name": "stdout",
     "output_type": "stream",
     "text": [
      "[0, 1, 4, 9, 16]\n"
     ]
    }
   ],
   "source": [
    "#Consider the following code that computes square numbers:\n",
    "nums = [0, 1, 2, 3, 4]\n",
    "squares = []\n",
    "for x in nums:\n",
    "    squares.append(x ** 2)\n",
    "print(squares)"
   ]
  },
  {
   "cell_type": "code",
   "execution_count": 32,
   "id": "876ea1ad",
   "metadata": {},
   "outputs": [
    {
     "name": "stdout",
     "output_type": "stream",
     "text": [
      "[0, 1, 4, 9, 16]\n"
     ]
    }
   ],
   "source": [
    "#You can make this code simpler using a list comprehension:\n",
    "nums = [0, 1, 2, 3, 4]\n",
    "squares = [x ** 2 for x in nums]\n",
    "print(squares)"
   ]
  },
  {
   "cell_type": "code",
   "execution_count": 33,
   "id": "8aba42ff",
   "metadata": {},
   "outputs": [
    {
     "name": "stdout",
     "output_type": "stream",
     "text": [
      "[0, 4, 16]\n"
     ]
    }
   ],
   "source": [
    "#List comprehensions can also contain conditions:\n",
    "nums = [0, 1, 2, 3, 4]\n",
    "even_squares = [x ** 2 for x in nums if x % 2 == 0]\n",
    "print(even_squares)"
   ]
  },
  {
   "cell_type": "markdown",
   "id": "458f5235",
   "metadata": {},
   "source": [
    "You can find all the details about lists in the [documentation](https://docs.python.org/3.7/tutorial/datastructures.html#more-on-lists)."
   ]
  },
  {
   "cell_type": "markdown",
   "id": "dd7baaae",
   "metadata": {},
   "source": [
    "### 2.2 Dicts\n"
   ]
  },
  {
   "cell_type": "markdown",
   "id": "fb41c4da",
   "metadata": {},
   "source": [
    "A dictionary stores (key, value) pairs, similar to a `Map` in Java or an object in Javascript. You can use it like this:"
   ]
  },
  {
   "cell_type": "code",
   "execution_count": 40,
   "id": "b1fd5ab4",
   "metadata": {},
   "outputs": [
    {
     "name": "stdout",
     "output_type": "stream",
     "text": [
      "cute\n",
      "True\n"
     ]
    }
   ],
   "source": [
    "d = {'cat': 'cute', 'dog': 'furry'}  # Create a new dictionary with some data\n",
    "print(d['cat'])       # Get an entry from a dictionary; prints \"cute\"\n",
    "print('cat' in d)     # Check if a dictionary has a given key; prints \"True\"https://colab.research.google.com/github/cs231n/cs231n.github.io/blob/master/python-colab.ipynb#scrollTo=kiMDUr58L9hN"
   ]
  },
  {
   "cell_type": "code",
   "execution_count": 41,
   "id": "8ee62b87",
   "metadata": {},
   "outputs": [
    {
     "name": "stdout",
     "output_type": "stream",
     "text": [
      "wet\n"
     ]
    }
   ],
   "source": [
    "d['fish'] = 'wet'    # Set an entry in a dictionary\n",
    "print(d['fish'])      # Prints \"wet\""
   ]
  },
  {
   "cell_type": "code",
   "execution_count": 42,
   "id": "2c297923",
   "metadata": {},
   "outputs": [
    {
     "ename": "KeyError",
     "evalue": "'monkey'",
     "output_type": "error",
     "traceback": [
      "\u001b[0;31m---------------------------------------------------------------------------\u001b[0m",
      "\u001b[0;31mKeyError\u001b[0m                                  Traceback (most recent call last)",
      "Input \u001b[0;32mIn [42]\u001b[0m, in \u001b[0;36m<cell line: 1>\u001b[0;34m()\u001b[0m\n\u001b[0;32m----> 1\u001b[0m \u001b[38;5;28mprint\u001b[39m(\u001b[43md\u001b[49m\u001b[43m[\u001b[49m\u001b[38;5;124;43m'\u001b[39;49m\u001b[38;5;124;43mmonkey\u001b[39;49m\u001b[38;5;124;43m'\u001b[39;49m\u001b[43m]\u001b[49m)\n",
      "\u001b[0;31mKeyError\u001b[0m: 'monkey'"
     ]
    }
   ],
   "source": [
    "print(d['monkey'])  # KeyError: 'monkey' not a key of d"
   ]
  },
  {
   "cell_type": "code",
   "execution_count": 43,
   "id": "d897de6a",
   "metadata": {},
   "outputs": [
    {
     "name": "stdout",
     "output_type": "stream",
     "text": [
      "N/A\n",
      "wet\n"
     ]
    }
   ],
   "source": [
    "print(d.get('monkey', 'N/A'))  # Get an element with a default; prints \"N/A\"\n",
    "print(d.get('fish', 'N/A'))    # Get an element with a default; prints \"wet\""
   ]
  },
  {
   "cell_type": "code",
   "execution_count": 44,
   "id": "29d61f19",
   "metadata": {},
   "outputs": [
    {
     "name": "stdout",
     "output_type": "stream",
     "text": [
      "N/A\n"
     ]
    }
   ],
   "source": [
    "del d['fish']        # Remove an element from a dictionary\n",
    "print(d.get('fish', 'N/A')) # \"fish\" is no longer a key; prints \"N/A\""
   ]
  },
  {
   "cell_type": "markdown",
   "id": "bbcb1bcf",
   "metadata": {},
   "source": [
    "You can iterate over the items, keys and values.\n"
   ]
  },
  {
   "cell_type": "code",
   "execution_count": 50,
   "id": "b23c80c0",
   "metadata": {},
   "outputs": [
    {
     "name": "stdout",
     "output_type": "stream",
     "text": [
      "A person has 2 legs\n",
      "A cat has 4 legs\n",
      "A spider has 8 legs\n"
     ]
    }
   ],
   "source": [
    "for animal, legs in d.items():\n",
    "    print('A {} has {} legs'.format(animal, legs))"
   ]
  },
  {
   "cell_type": "code",
   "execution_count": 58,
   "id": "7c594c4a",
   "metadata": {},
   "outputs": [
    {
     "name": "stdout",
     "output_type": "stream",
     "text": [
      "Animal: person\n",
      "Animal: cat\n",
      "Animal: spider\n"
     ]
    }
   ],
   "source": [
    "d = {'person': 2, 'cat': 4, 'spider': 8}\n",
    "for animal in d.keys():\n",
    "    print('Animal: {}'.format(animal))"
   ]
  },
  {
   "cell_type": "code",
   "execution_count": 59,
   "id": "037ac4c1",
   "metadata": {},
   "outputs": [
    {
     "name": "stdout",
     "output_type": "stream",
     "text": [
      "Legs: 2\n",
      "Legs: 4\n",
      "Legs: 8\n"
     ]
    }
   ],
   "source": [
    "d = {'person': 2, 'cat': 4, 'spider': 8}\n",
    "for legs in d.values():\n",
    "    print('Legs: {}'.format(legs))"
   ]
  },
  {
   "cell_type": "markdown",
   "id": "2440c2ce",
   "metadata": {},
   "source": [
    "### 2.3 Sets\n"
   ]
  },
  {
   "cell_type": "markdown",
   "id": "e0591fe2",
   "metadata": {},
   "source": [
    "A set is an unordered collection of distinct elements. As a simple example, consider the following:"
   ]
  },
  {
   "cell_type": "code",
   "execution_count": 60,
   "id": "4bfb281d",
   "metadata": {},
   "outputs": [
    {
     "name": "stdout",
     "output_type": "stream",
     "text": [
      "True\n",
      "False\n"
     ]
    }
   ],
   "source": [
    "animals = {'cat', 'dog'}\n",
    "print('cat' in animals)   # Check if an element is in a set; prints \"True\"\n",
    "print('fish' in animals)  # prints \"False\""
   ]
  },
  {
   "cell_type": "code",
   "execution_count": 61,
   "id": "13e43bd7",
   "metadata": {},
   "outputs": [
    {
     "name": "stdout",
     "output_type": "stream",
     "text": [
      "True\n",
      "3\n"
     ]
    }
   ],
   "source": [
    "animals.add('fish')      # Add an element to a set\n",
    "print('fish' in animals)\n",
    "print(len(animals))       # Number of elements in a set;"
   ]
  },
  {
   "cell_type": "code",
   "execution_count": 62,
   "id": "e4d06627",
   "metadata": {},
   "outputs": [
    {
     "name": "stdout",
     "output_type": "stream",
     "text": [
      "3\n",
      "2\n"
     ]
    }
   ],
   "source": [
    "animals.add('cat')       # Adding an element that is already in the set does nothing\n",
    "print(len(animals))       \n",
    "animals.remove('cat')    # Remove an element from a set\n",
    "print(len(animals))       "
   ]
  },
  {
   "cell_type": "markdown",
   "id": "c8ed194c",
   "metadata": {},
   "source": [
    "_Loops_: Iterating over a set has the same syntax as iterating over a list; however since sets are unordered, you cannot make assumptions about the order in which you visit the elements of the set:"
   ]
  },
  {
   "cell_type": "code",
   "execution_count": 63,
   "id": "adc704e7",
   "metadata": {},
   "outputs": [
    {
     "name": "stdout",
     "output_type": "stream",
     "text": [
      "#1: cat\n",
      "#2: fish\n",
      "#3: dog\n"
     ]
    }
   ],
   "source": [
    "animals = {'cat', 'dog', 'fish'}\n",
    "for idx, animal in enumerate(animals):\n",
    "    print('#{}: {}'.format(idx + 1, animal))"
   ]
  },
  {
   "cell_type": "markdown",
   "id": "215bce82",
   "metadata": {},
   "source": [
    "Set comprehensions: Like lists and dictionaries, we can easily construct sets using set comprehensions:"
   ]
  },
  {
   "cell_type": "code",
   "execution_count": 66,
   "id": "3f50eff9",
   "metadata": {},
   "outputs": [
    {
     "name": "stdout",
     "output_type": "stream",
     "text": [
      "{0, 1, 2, 3, 4, 5}\n"
     ]
    }
   ],
   "source": [
    "from math import sqrt\n",
    "print({int(sqrt(x)) for x in range(30)})"
   ]
  },
  {
   "cell_type": "markdown",
   "id": "8b1384de",
   "metadata": {},
   "source": [
    "### 2.4 Tuples\n"
   ]
  },
  {
   "cell_type": "markdown",
   "id": "35717168",
   "metadata": {},
   "source": [
    "A tuple is an (immutable) ordered list of values. A tuple is in many ways similar to a list; one of the most important differences is that tuples can be used as keys in dictionaries and as elements of sets, while lists cannot. Here is a trivial example:"
   ]
  },
  {
   "cell_type": "code",
   "execution_count": 71,
   "id": "2c69b5f2",
   "metadata": {},
   "outputs": [
    {
     "name": "stdout",
     "output_type": "stream",
     "text": [
      "d =  {(0, 1): 0, (1, 2): 1, (2, 3): 2, (3, 4): 3, (4, 5): 4, (5, 6): 5, (6, 7): 6, (7, 8): 7, (8, 9): 8, (9, 10): 9}\n",
      "<class 'tuple'>\n",
      "5\n",
      "1\n"
     ]
    }
   ],
   "source": [
    "d = {(x, x + 1): x for x in range(10)}  # Create a dictionary with tuple keys\n",
    "print('d = ', d)\n",
    "t = (5, 6)       # Create a tuple\n",
    "print(type(t))\n",
    "print(d[t])       \n",
    "print(d[(1, 2)])"
   ]
  },
  {
   "cell_type": "code",
   "execution_count": 74,
   "id": "8ddbb74f",
   "metadata": {},
   "outputs": [
    {
     "ename": "TypeError",
     "evalue": "'tuple' object does not support item assignment",
     "output_type": "error",
     "traceback": [
      "\u001b[0;31m---------------------------------------------------------------------------\u001b[0m",
      "\u001b[0;31mTypeError\u001b[0m                                 Traceback (most recent call last)",
      "Input \u001b[0;32mIn [74]\u001b[0m, in \u001b[0;36m<cell line: 2>\u001b[0;34m()\u001b[0m\n\u001b[1;32m      1\u001b[0m \u001b[38;5;66;03m# 'tuple' object does not support item assignment\u001b[39;00m\n\u001b[0;32m----> 2\u001b[0m t[\u001b[38;5;241m0\u001b[39m] \u001b[38;5;241m=\u001b[39m \u001b[38;5;241m1\u001b[39m\n",
      "\u001b[0;31mTypeError\u001b[0m: 'tuple' object does not support item assignment"
     ]
    }
   ],
   "source": [
    "# 'tuple' object does not support item assignment\n",
    "t[0] = 1"
   ]
  },
  {
   "cell_type": "markdown",
   "id": "dffb39f8",
   "metadata": {},
   "source": [
    "## 3. Conditional Statements"
   ]
  },
  {
   "cell_type": "markdown",
   "id": "934b4705",
   "metadata": {},
   "source": [
    "Python uses boolean logic to evaluate conditions. The boolean values True and False are returned when an expression is compared or evaluated. For example:"
   ]
  },
  {
   "cell_type": "code",
   "execution_count": 76,
   "id": "65e3bc7e",
   "metadata": {},
   "outputs": [
    {
     "name": "stdout",
     "output_type": "stream",
     "text": [
      "True\n",
      "False\n",
      "True\n",
      "True\n"
     ]
    }
   ],
   "source": [
    "x = 5\n",
    "print(x == 5) # prints out True\n",
    "print(x == 7) # prints out False\n",
    "print(x < 6) # prints out True\n",
    "print(x != 6) # prints out True"
   ]
  },
  {
   "cell_type": "markdown",
   "id": "14c26aa7",
   "metadata": {},
   "source": [
    "### 3.1 Boolean operators"
   ]
  },
  {
   "cell_type": "code",
   "execution_count": 77,
   "id": "2d0cf6b0",
   "metadata": {},
   "outputs": [
    {
     "name": "stdout",
     "output_type": "stream",
     "text": [
      "Your name is Pepe, and you are also 23 years old.\n",
      "Your name is either Pepe or Artemio.\n"
     ]
    }
   ],
   "source": [
    "name = \"Pepe\"\n",
    "age = 23\n",
    "if name == \"Pepe\" and age == 23:\n",
    "    print(\"Your name is Pepe, and you are also 23 years old.\")\n",
    "\n",
    "if name == \"Pepe\" or name == \"Artemio\":\n",
    "    print(\"Your name is either Pepe or Artemio.\")"
   ]
  },
  {
   "cell_type": "markdown",
   "id": "65cccda5",
   "metadata": {},
   "source": [
    "### 3.2 The \"In\" operator"
   ]
  },
  {
   "cell_type": "code",
   "execution_count": 20,
   "id": "75da3c73",
   "metadata": {},
   "outputs": [
    {
     "name": "stdout",
     "output_type": "stream",
     "text": [
      "Your name is either Pepe or Paulo.\n"
     ]
    }
   ],
   "source": [
    "name = \"Pepe\"\n",
    "if name in [\"Pepe\", \"Paulo\"]:\n",
    "    print(\"Your name is either Pepe or Paulo.\")"
   ]
  },
  {
   "cell_type": "markdown",
   "id": "d6b8b4d9",
   "metadata": {},
   "source": [
    "Indentation Matters!"
   ]
  },
  {
   "cell_type": "code",
   "execution_count": null,
   "id": "52e870e0",
   "metadata": {},
   "outputs": [],
   "source": [
    "age = 10\n",
    "if age < 18:\n",
    "print('You can follow the elections on the news')\n",
    "elif age < 35:\n",
    "print('You can vote in all elections')\n",
    "elif age >= 35:\n",
    "print('You can stand for any election')"
   ]
  },
  {
   "cell_type": "markdown",
   "id": "732640f4",
   "metadata": {},
   "source": [
    "### 3.3 The \"Is\" operator"
   ]
  },
  {
   "cell_type": "code",
   "execution_count": null,
   "id": "55659337",
   "metadata": {},
   "outputs": [],
   "source": [
    "x = [1,2,3]\n",
    "y = [1,2,3]\n",
    "print(x == y) # Prints out True\n",
    "print(x is y) # Prints out False"
   ]
  },
  {
   "cell_type": "markdown",
   "id": "912ffbda",
   "metadata": {},
   "source": [
    "### 3.4 The \"Not\" operator"
   ]
  },
  {
   "cell_type": "code",
   "execution_count": null,
   "id": "dadd3984",
   "metadata": {},
   "outputs": [],
   "source": [
    "print(not False) # Prints out True\n",
    "print((not False) == (False)) # Prints out False"
   ]
  },
  {
   "cell_type": "markdown",
   "id": "97d6b3d5",
   "metadata": {},
   "source": [
    "## 4. Functions and Classes"
   ]
  },
  {
   "cell_type": "markdown",
   "id": "f54cbdea",
   "metadata": {},
   "source": [
    "### 4.1 Functions"
   ]
  },
  {
   "cell_type": "markdown",
   "id": "649f4a03",
   "metadata": {},
   "source": [
    "General syntax: "
   ]
  },
  {
   "cell_type": "code",
   "execution_count": null,
   "id": "dfece8a6",
   "metadata": {},
   "outputs": [],
   "source": [
    "def function_name(argument1, argument2,...,):\n",
    "    \"\"\"\n",
    "    Description of function\n",
    "    \"\"\"\n",
    "\n",
    "    # Function statements\n",
    "    \n",
    "    return(return_value)"
   ]
  },
  {
   "cell_type": "markdown",
   "id": "98cdf5c4",
   "metadata": {},
   "source": [
    "Function Name:\n",
    "The function name is how you use it later on in the code. use a well-described function name (E.g. sum_numbers instead of function_1. This make it easier for others to understand (and for you to remember when you come back to it).\n",
    "\n",
    "Arguments:\n",
    "While not required, you will most likely want to write functions that take in arguments. These act as variables within your function that take on the values that you pass in when you run later. There are different types of arguments, which we will discuss later. Arguments can be of any type.\n",
    "\n",
    "Docstring:\n",
    "Docstrings are not required, but can provide additional comments and description of your function. Things to include in a docstring can include a description of the arguments and what the function does.\n",
    "\n",
    "Function Statements:\n",
    "These are what the function will do everytime you call it.\n",
    "\n",
    "Return Value:\n",
    "If you want to return any calculations you have done within a function, you will need to use the return statement. You can only return one value from a function. To get around this limitation, you can return multiple values as a tuple."
   ]
  },
  {
   "cell_type": "markdown",
   "id": "e4fba37a",
   "metadata": {},
   "source": [
    "Example:"
   ]
  },
  {
   "cell_type": "code",
   "execution_count": 78,
   "id": "375bb061",
   "metadata": {},
   "outputs": [],
   "source": [
    "def sum_plus(num1, num2, num3):\n",
    "    \"\"\"Takes in three integers or floats, and returns the sum plus an extra number\n",
    "    \n",
    "    Arguments:\n",
    "        num1 (int/float): First Number\n",
    "        num2 (int/float): Second Number\n",
    "        num2 (int/float): Third Number\n",
    "        \n",
    "    Returns:\n",
    "        sum (int/float): Sum of three inputs\n",
    "    \"\"\"\n",
    "    \n",
    "    sum = num1 + num2 + num3 + 5\n",
    "    \n",
    "    return(sum)"
   ]
  },
  {
   "cell_type": "code",
   "execution_count": 79,
   "id": "14365d81",
   "metadata": {},
   "outputs": [
    {
     "data": {
      "text/plain": [
       "11"
      ]
     },
     "execution_count": 79,
     "metadata": {},
     "output_type": "execute_result"
    }
   ],
   "source": [
    "sum_plus(3,2,1)"
   ]
  },
  {
   "cell_type": "markdown",
   "id": "b7fbbb41",
   "metadata": {},
   "source": [
    "More examples:"
   ]
  },
  {
   "cell_type": "code",
   "execution_count": 80,
   "id": "ad9c1153",
   "metadata": {},
   "outputs": [],
   "source": [
    "def sign(x):\n",
    "    if x > 0:\n",
    "        return 'positive'\n",
    "    elif x < 0:\n",
    "        return 'negative'\n",
    "    else:\n",
    "        return 'zero'"
   ]
  },
  {
   "cell_type": "code",
   "execution_count": 81,
   "id": "5b359ecf",
   "metadata": {},
   "outputs": [
    {
     "name": "stdout",
     "output_type": "stream",
     "text": [
      "negative\n",
      "zero\n",
      "positive\n"
     ]
    }
   ],
   "source": [
    "for x in [-1, 0, 1]:\n",
    "    print(sign(x))"
   ]
  },
  {
   "cell_type": "code",
   "execution_count": 82,
   "id": "77da51a5",
   "metadata": {},
   "outputs": [],
   "source": [
    "def hello(name, loud=False):\n",
    "    if loud:\n",
    "        print('HELLO, {}'.format(name.upper()))\n",
    "    else:\n",
    "        print('Hello, {}!'.format(name))"
   ]
  },
  {
   "cell_type": "code",
   "execution_count": 83,
   "id": "73e622c1",
   "metadata": {},
   "outputs": [
    {
     "name": "stdout",
     "output_type": "stream",
     "text": [
      "Hello, Bob!\n",
      "HELLO, FRED\n"
     ]
    }
   ],
   "source": [
    "hello('Bob')\n",
    "hello('Fred', loud=True)"
   ]
  },
  {
   "cell_type": "markdown",
   "id": "cadaf6a9",
   "metadata": {},
   "source": [
    "### 4.2 Classes"
   ]
  },
  {
   "cell_type": "markdown",
   "id": "ae827120",
   "metadata": {},
   "source": [
    "A class is a complex data-type where the related variables are said to be **objects** or **instances** of that class."
   ]
  },
  {
   "cell_type": "code",
   "execution_count": 75,
   "id": "97c5fe01",
   "metadata": {},
   "outputs": [],
   "source": [
    "class Person:\n",
    "    def __init__(self, name, age):\n",
    "        self.name = name\n",
    "        self.age = age"
   ]
  },
  {
   "cell_type": "markdown",
   "id": "d670a668",
   "metadata": {},
   "source": [
    "Here we created a class Person with a function __init__. Functions that start with underscores are always special functions to Python which are connected with other built-in aspects of the language. The initialisation function will be called when an object of that initialised. Let's do so:"
   ]
  },
  {
   "cell_type": "code",
   "execution_count": 84,
   "id": "482b1ce3",
   "metadata": {},
   "outputs": [
    {
     "name": "stdout",
     "output_type": "stream",
     "text": [
      "My name is Maarten\n",
      "My age is 30\n"
     ]
    }
   ],
   "source": [
    "author = Person(\"Maarten\", 30)\n",
    "print(\"My name is \" + author.name)\n",
    "print(\"My age is \" + str(author.age))"
   ]
  },
  {
   "cell_type": "markdown",
   "id": "4440b262",
   "metadata": {},
   "source": [
    "Functions within a class are called **methods**. The initialisation method assigns the two parameters that are passed to variables that *belong to the object*, within a class definition the object is always represented by `self`.\n",
    "\n",
    "The first argument of a method is always `self`, and it will always point to the instance of the class. This first argument however is never explicitly specified when you call the method. It is implicitly passed by Python itself. That is why you see a discrepancy between the number of arguments in the instantiation and in the class definition.\n",
    "\n",
    "\n",
    "Any variable or methods in a class can be accessed using the period (`.`) syntax:\n",
    "\n",
    "`object.variable` \n",
    "\n",
    "or:\n",
    "\n",
    "`object.method`"
   ]
  },
  {
   "cell_type": "markdown",
   "id": "c1642a71",
   "metadata": {},
   "source": [
    "## 5. Extra Reading"
   ]
  },
  {
   "cell_type": "markdown",
   "id": "f96f20a0",
   "metadata": {},
   "source": [
    "### 5.1 Iterators and Iterables\n",
    "#### Suggested Reading: https://www.pythontutorial.net/advanced-python/python-iterator-vs-iterable/"
   ]
  },
  {
   "cell_type": "markdown",
   "id": "cf99484e",
   "metadata": {},
   "source": [
    "### 5.2 Global and Local Variables\n",
    "#### Suggested Reading: https://www.geeksforgeeks.org/global-local-variables-python/"
   ]
  },
  {
   "cell_type": "markdown",
   "id": "c8922372",
   "metadata": {},
   "source": [
    "### 5.3 Introduction to OOP (Object Oriented Programming) in Python\n",
    "#### Suggested Reading: https://www.freecodecamp.org/news/object-oriented-programming-in-python/"
   ]
  },
  {
   "cell_type": "markdown",
   "id": "66c5a801",
   "metadata": {},
   "source": [
    "### References:\n",
    "Python community is so huge and supportive and out there you can find very good resources. Thus, most of this notebook is based on the following links:\n",
    "* https://colab.research.google.com/github/cs231n/cs231n.github.io/blob/master/python-colab.ipynb#scrollTo=kiMDUr58L9hN\n",
    "* https://www.learnpython.org/en/Conditions\n",
    "* https://colab.research.google.com/github/anthony-agbay/python-resource-guide/blob/master/notebooks/functions.ipynb\n",
    "* https://colab.research.google.com/github/fbkarsdorp/python-course/blob/master/Chapter%206%20-%20Object%20Oriented%20Programming.ipynb#scrollTo=cdyIYeWt5kA5\n"
   ]
  },
  {
   "cell_type": "code",
   "execution_count": null,
   "id": "d2d408a1",
   "metadata": {},
   "outputs": [],
   "source": []
  }
 ],
 "metadata": {
  "kernelspec": {
   "display_name": "Python 3 (ipykernel)",
   "language": "python",
   "name": "python3"
  },
  "language_info": {
   "codemirror_mode": {
    "name": "ipython",
    "version": 3
   },
   "file_extension": ".py",
   "mimetype": "text/x-python",
   "name": "python",
   "nbconvert_exporter": "python",
   "pygments_lexer": "ipython3",
   "version": "3.9.12"
  }
 },
 "nbformat": 4,
 "nbformat_minor": 5
}
